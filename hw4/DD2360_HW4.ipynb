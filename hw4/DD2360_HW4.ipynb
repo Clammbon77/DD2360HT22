{
  "nbformat": 4,
  "nbformat_minor": 0,
  "metadata": {
    "colab": {
      "provenance": []
    },
    "kernelspec": {
      "name": "python3",
      "display_name": "Python 3"
    },
    "language_info": {
      "name": "python"
    },
    "accelerator": "GPU",
    "gpuClass": "standard"
  },
  "cells": [
    {
      "cell_type": "code",
      "execution_count": null,
      "metadata": {
        "id": "R4ZLPGYCJOsz",
        "colab": {
          "base_uri": "https://localhost:8080/"
        },
        "outputId": "71d66f6d-fd0b-42fa-b998-1091162aa0f7"
      },
      "outputs": [
        {
          "output_type": "stream",
          "name": "stdout",
          "text": [
            "Drive already mounted at /content/drive; to attempt to forcibly remount, call drive.mount(\"/content/drive\", force_remount=True).\n"
          ]
        }
      ],
      "source": [
        "from google.colab import drive\n",
        "drive.mount('/content/drive')"
      ]
    },
    {
      "cell_type": "code",
      "source": [
        "%cd '/content/drive/MyDrive/DD2360HW3'\n",
        "!ls"
      ],
      "metadata": {
        "colab": {
          "base_uri": "https://localhost:8080/"
        },
        "id": "vStBLhgNTBtS",
        "outputId": "a821d74c-d306-482e-d00a-530fd757d6e2"
      },
      "execution_count": null,
      "outputs": [
        {
          "output_type": "stream",
          "name": "stdout",
          "text": [
            "/content/drive/MyDrive/DD2360HW3\n",
            "histogram.txt  lab3_ex2     lab3_ex3.cu\n",
            "lab3_ex1       lab3_ex2.cu  lab4_ex2_nostream.nvvp\n",
            "lab3_ex1.cu    lab3_ex3     sputniPIC-DD2360-master\n"
          ]
        }
      ]
    },
    {
      "cell_type": "code",
      "source": [
        "!nvcc -arch=sm_75 ./lab3_ex1.cu -o lab3_ex1"
      ],
      "metadata": {
        "id": "_fRD0yMzbS9l"
      },
      "execution_count": null,
      "outputs": []
    },
    {
      "cell_type": "code",
      "source": [
        "!nvprof --profile-from-start off --output-profile lab4_ex2_nostream.nvvp -f ./lab3_ex1 512000"
      ],
      "metadata": {
        "colab": {
          "base_uri": "https://localhost:8080/"
        },
        "id": "K12eVKGvSC6r",
        "outputId": "f173a6e1-8f40-420e-e7b9-9d28ddd2d425"
      },
      "execution_count": null,
      "outputs": [
        {
          "output_type": "stream",
          "name": "stdout",
          "text": [
            "The input length is 512000\n",
            "==17968== NVPROF is profiling process 17968, command: ./lab3_ex1 512000\n",
            "Result is equal to reference==17968== Generated result file: /content/drive/MyDrive/DD2360HW3/lab4_ex2_nostream.nvvp\n"
          ]
        }
      ]
    },
    {
      "cell_type": "markdown",
      "source": [],
      "metadata": {
        "id": "9_FFT9h6sBKs"
      }
    },
    {
      "cell_type": "code",
      "source": [
        "%cd '/content/drive/MyDrive'\n",
        "!ls"
      ],
      "metadata": {
        "colab": {
          "base_uri": "https://localhost:8080/"
        },
        "id": "Nd_223rKUCxz",
        "outputId": "c1dd478b-bc6f-4fbc-ec89-9f985598b7f2"
      },
      "execution_count": null,
      "outputs": [
        {
          "output_type": "stream",
          "name": "stdout",
          "text": [
            "/content/drive/MyDrive\n",
            "'Colab Notebooks'   DD2360HW3   lab4_ex2   lab4_ex2.cu\t rodinia_3.1\n"
          ]
        }
      ]
    },
    {
      "cell_type": "code",
      "source": [
        "!nvcc -arch=sm_75 ./lab4_ex2.cu -o lab4_ex2"
      ],
      "metadata": {
        "id": "mjoJSz-ZTu3p"
      },
      "execution_count": null,
      "outputs": []
    },
    {
      "cell_type": "code",
      "source": [
        "!nvprof --output-profile lab4_ex2_256.nvvp -f ./lab4_ex2 512000 256"
      ],
      "metadata": {
        "colab": {
          "base_uri": "https://localhost:8080/"
        },
        "id": "qF-3s76FfJpA",
        "outputId": "3ad0fcdd-93ef-4582-ec1f-6eb32e158651"
      },
      "execution_count": null,
      "outputs": [
        {
          "output_type": "stream",
          "name": "stdout",
          "text": [
            "The input length is 512000\n",
            "The stream size is 256\n",
            "The number of streams is 2000\n",
            "==13033== NVPROF is profiling process 13033, command: ./lab4_ex2 512000 256\n",
            "Result is equal to reference==13033== Generated result file: /content/drive/MyDrive/lab4_ex2_256.nvvp\n"
          ]
        }
      ]
    },
    {
      "cell_type": "code",
      "source": [
        "!nvprof --output-profile lab4_ex2_5120.nvvp -f ./lab4_ex2 512000 5120"
      ],
      "metadata": {
        "colab": {
          "base_uri": "https://localhost:8080/"
        },
        "id": "BMoNL-uvVgot",
        "outputId": "2c03140d-dd09-4246-e3fb-1627d8e288d2"
      },
      "execution_count": null,
      "outputs": [
        {
          "output_type": "stream",
          "name": "stdout",
          "text": [
            "The input length is 512000\n",
            "The stream size is 5120\n",
            "The number of streams is 100\n",
            "==13862== NVPROF is profiling process 13862, command: ./lab4_ex2 512000 5120\n",
            "Result is equal to reference==13862== Generated result file: /content/drive/MyDrive/lab4_ex2_5120.nvvp\n"
          ]
        }
      ]
    },
    {
      "cell_type": "code",
      "source": [
        "!nvprof --output-profile lab4_ex2_102400.nvvp -f ./lab4_ex2 512000 102400"
      ],
      "metadata": {
        "colab": {
          "base_uri": "https://localhost:8080/"
        },
        "id": "3ktDni89Xt6y",
        "outputId": "d71cf415-d1c4-48a2-9cf6-a3a0b8d632a1"
      },
      "execution_count": null,
      "outputs": [
        {
          "output_type": "stream",
          "name": "stdout",
          "text": [
            "The input length is 512000\n",
            "The stream size is 102400\n",
            "The number of streams is 5\n",
            "==13997== NVPROF is profiling process 13997, command: ./lab4_ex2 512000 102400\n",
            "==13997== Generated result file: /content/drive/MyDrive/lab4_ex2_102400.nvvp\n",
            "Result is equal to reference"
          ]
        }
      ]
    },
    {
      "cell_type": "code",
      "source": [
        "!nvprof --output-profile lab4_ex2_256000.nvvp -f ./lab4_ex2 512000 256000"
      ],
      "metadata": {
        "colab": {
          "base_uri": "https://localhost:8080/"
        },
        "id": "i73X1ZHtYZ8h",
        "outputId": "949fe466-8d5a-477e-c77c-c5bd63646867"
      },
      "execution_count": null,
      "outputs": [
        {
          "output_type": "stream",
          "name": "stdout",
          "text": [
            "The input length is 512000\n",
            "The stream size is 256000\n",
            "The number of streams is 2\n",
            "==15325== NVPROF is profiling process 15325, command: ./lab4_ex2 512000 256000\n",
            "Result is equal to reference==15325== Generated result file: /content/drive/MyDrive/lab4_ex2_256000.nvvp\n"
          ]
        }
      ]
    },
    {
      "cell_type": "code",
      "source": [
        "!nvprof --output-profile lab4_ex2_512000.nvvp -f ./lab4_ex2 512000 512000"
      ],
      "metadata": {
        "colab": {
          "base_uri": "https://localhost:8080/"
        },
        "id": "hTVnpc0SX584",
        "outputId": "4c404409-6504-4e24-f579-9c75aea889be"
      },
      "execution_count": null,
      "outputs": [
        {
          "output_type": "stream",
          "name": "stdout",
          "text": [
            "The input length is 512000\n",
            "The stream size is 512000\n",
            "The number of streams is 1\n",
            "==14530== NVPROF is profiling process 14530, command: ./lab4_ex2 512000 512000\n",
            "Result is equal to reference==14530== Generated result file: /content/drive/MyDrive/lab4_ex2_512000.nvvp\n"
          ]
        }
      ]
    },
    {
      "cell_type": "code",
      "source": [
        "%cd '/content/drive/MyDrive/DD2360HW3'\n",
        "!ls"
      ],
      "metadata": {
        "colab": {
          "base_uri": "https://localhost:8080/"
        },
        "outputId": "c45e43b2-4f94-4a83-8b9e-43c9cdf7e50c",
        "id": "-_8KTIln6ABd"
      },
      "execution_count": null,
      "outputs": [
        {
          "output_type": "stream",
          "name": "stdout",
          "text": [
            "/content/drive/MyDrive/DD2360HW3\n",
            "histogram.txt  lab3_ex2     lab3_ex3.cu\n",
            "lab3_ex1       lab3_ex2.cu  lab4_ex2_nostream.nvvp\n",
            "lab3_ex1.cu    lab3_ex3     sputniPIC-DD2360-master\n"
          ]
        }
      ]
    },
    {
      "cell_type": "code",
      "source": [
        "!nvprof ./lab3_ex1 128000"
      ],
      "metadata": {
        "colab": {
          "base_uri": "https://localhost:8080/"
        },
        "id": "f_s_xXo06BJM",
        "outputId": "9f825e5a-6eb1-4c37-badd-4e7be5e9c422"
      },
      "execution_count": null,
      "outputs": [
        {
          "output_type": "stream",
          "name": "stdout",
          "text": [
            "The input length is 128000\n",
            "==8956== NVPROF is profiling process 8956, command: ./lab3_ex1 128000\n",
            "Result is equal to reference==8956== Profiling application: ./lab3_ex1 128000\n",
            "==8956== Profiling result:\n",
            "            Type  Time(%)      Time     Calls       Avg       Min       Max  Name\n",
            " GPU activities:   74.55%  267.77us         2  133.89us  88.287us  179.49us  [CUDA memcpy HtoD]\n",
            "                   22.26%  79.966us         1  79.966us  79.966us  79.966us  [CUDA memcpy DtoH]\n",
            "                    3.19%  11.456us         1  11.456us  11.456us  11.456us  vecAdd(double*, double*, double*, int)\n",
            "      API calls:   98.75%  205.60ms         3  68.533ms  4.0290us  205.49ms  cudaMalloc\n",
            "                    0.76%  1.5866ms         3  528.88us  292.87us  911.81us  cudaMemcpy\n",
            "                    0.18%  376.06us         1  376.06us  376.06us  376.06us  cuDeviceTotalMem\n",
            "                    0.15%  307.09us         3  102.36us  11.148us  152.09us  cudaFree\n",
            "                    0.07%  140.36us       101  1.3890us     127ns  59.602us  cuDeviceGetAttribute\n",
            "                    0.05%  110.34us         3  36.780us  5.5540us  93.346us  cudaDeviceSynchronize\n",
            "                    0.02%  33.570us         1  33.570us  33.570us  33.570us  cudaLaunchKernel\n",
            "                    0.01%  29.303us         1  29.303us  29.303us  29.303us  cuDeviceGetName\n",
            "                    0.00%  6.0800us         1  6.0800us  6.0800us  6.0800us  cuDeviceGetPCIBusId\n",
            "                    0.00%  1.7930us         3     597ns     296ns  1.1350us  cuDeviceGetCount\n",
            "                    0.00%  1.5240us         2     762ns     392ns  1.1320us  cuDeviceGet\n",
            "                    0.00%     258ns         1     258ns     258ns     258ns  cuDeviceGetUuid\n"
          ]
        }
      ]
    },
    {
      "cell_type": "code",
      "source": [
        "%cd '/content/drive/MyDrive'\n",
        "!ls"
      ],
      "metadata": {
        "colab": {
          "base_uri": "https://localhost:8080/"
        },
        "id": "sOFRxx0O7aQa",
        "outputId": "5625765e-571b-4ab0-b7f3-c32811ea7489"
      },
      "execution_count": null,
      "outputs": [
        {
          "output_type": "stream",
          "name": "stdout",
          "text": [
            "/content/drive/MyDrive\n",
            "'Colab Notebooks'   lab4_ex2_102400.nvvp   lab4_ex2_512000.nvvp   rodinia_3.1\n",
            " DD2360HW3\t    lab4_ex2_256000.nvvp   lab4_ex2_5120.nvvp\n",
            " lab4_ex2\t    lab4_ex2_256.nvvp\t   lab4_ex2.cu\n"
          ]
        }
      ]
    },
    {
      "cell_type": "code",
      "source": [
        "!nvprof ./lab4_ex2 128000 32000"
      ],
      "metadata": {
        "colab": {
          "base_uri": "https://localhost:8080/"
        },
        "id": "CESqScmU7Wts",
        "outputId": "2b1af587-3dba-488d-c825-da3cc5c0491d"
      },
      "execution_count": null,
      "outputs": [
        {
          "output_type": "stream",
          "name": "stdout",
          "text": [
            "The input length is 128000\n",
            "The stream size is 32000\n",
            "The number of streams is 4\n",
            "==8914== NVPROF is profiling process 8914, command: ./lab4_ex2 128000 32000\n",
            "==8914== Profiling application: ./lab4_ex2 128000 32000\n",
            "==8914== Profiling result:\n",
            "            Type  Time(%)      Time     Calls       Avg       Min       Max  Name\n",
            " GPU activities:   64.49%  202.01us         8  25.251us  23.167us  27.264us  [CUDA memcpy HtoD]\n",
            "                   27.34%  85.631us         4  21.407us  21.280us  21.536us  [CUDA memcpy DtoH]\n",
            "                    8.17%  25.600us         4  6.4000us  6.0160us  7.3280us  vecAdd(double*, double*, double*, int)\n",
            "      API calls:   98.91%  270.83ms         4  67.709ms  2.4360us  270.83ms  cudaStreamCreate\n",
            "                    0.54%  1.4759ms        12  122.99us  58.077us  246.92us  cudaMemcpyAsync\n",
            "                    0.20%  539.39us         1  539.39us  539.39us  539.39us  cuDeviceTotalMem\n",
            "                    0.13%  342.70us         3  114.23us  4.9540us  222.82us  cudaMalloc\n",
            "                    0.10%  269.84us         3  89.946us  9.3410us  132.20us  cudaFree\n",
            "                    0.07%  196.98us       101  1.9500us     202ns  79.794us  cuDeviceGetAttribute\n",
            "                    0.03%  80.762us         4  20.190us  12.599us  35.217us  cudaLaunchKernel\n",
            "                    0.01%  33.291us         1  33.291us  33.291us  33.291us  cuDeviceGetName\n",
            "                    0.01%  25.855us         4  6.4630us  4.3120us  12.690us  cudaStreamDestroy\n",
            "                    0.01%  16.064us         4  4.0160us  2.9790us  5.4370us  cudaStreamSynchronize\n",
            "                    0.00%  6.9740us         1  6.9740us  6.9740us  6.9740us  cuDeviceGetPCIBusId\n",
            "                    0.00%  5.4130us         1  5.4130us  5.4130us  5.4130us  cudaDeviceSynchronize\n",
            "                    0.00%  2.9730us         3     991ns     352ns  1.3960us  cuDeviceGetCount\n",
            "                    0.00%  1.2840us         2     642ns     364ns     920ns  cuDeviceGet\n",
            "                    0.00%     404ns         1     404ns     404ns     404ns  cuDeviceGetUuid\n",
            "Result is equal to reference"
          ]
        }
      ]
    },
    {
      "cell_type": "code",
      "source": [
        "import matplotlib.pyplot as plt\n",
        "import numpy as np\n",
        "\n",
        "vector_lengths = ['128000', '512000', '1024000']\n",
        "memcpy_dtoh_nostream = np.array([79.966 , 1476.4,  4257.8])\n",
        "memcpy_htod_nostream = np.array([267.77 , 1488.7,   3205.9])\n",
        "vecadd_nostream = np.array([11.456, 42.464, 90.687])\n",
        "\n",
        "memcpy_dtoh_stream = np.array([85.631, 324.38, 661.01])\n",
        "memcpy_htod_stream = np.array([202.01, 691.42, 2478.4])\n",
        "vecadd_stream = np.array([25.6, 41.472, 81.438])\n",
        "\n",
        "width = 0.4\n",
        "fig, ax = plt.subplots(1, 2)\n",
        "\n",
        "ax[0].bar(vector_lengths, memcpy_htod_nostream, width, label='CUDA memcpy HtoD')\n",
        "ax[0].bar(vector_lengths, vecadd_nostream, width, bottom=memcpy_htod_nostream , label='Kernel Execution')\n",
        "ax[0].bar(vector_lengths, memcpy_dtoh_nostream, width, bottom=memcpy_htod_nostream+vecadd_nostream,\n",
        "       label='CUDA memcpy DtoH')\n",
        "\n",
        "\n",
        "ax[0].set_xlabel('Vector Length')\n",
        "ax[0].set_ylabel('Execution time (us)')\n",
        "ax[0].set_title('Execution time (non-streamed version)')\n",
        "ax[0].legend()\n",
        "\n",
        "ax[1].bar(vector_lengths, memcpy_htod_stream, width, label='CUDA memcpy HtoD')\n",
        "ax[1].bar(vector_lengths, vecadd_stream, width, bottom=memcpy_htod_stream , label='Kernel Execution')\n",
        "ax[1].bar(vector_lengths, memcpy_dtoh_stream, width, bottom=memcpy_htod_stream+vecadd_stream,\n",
        "       label='CUDA memcpy DtoH')\n",
        "\n",
        "ax[1].set_xlabel('Vector Length')\n",
        "ax[1].set_ylabel('Execution time (us)')\n",
        "ax[1].set_title('Execution time (streamed version)')\n",
        "ax[1].legend()\n",
        "\n",
        "fig.set_size_inches(18.5, 10.5, forward=True)\n",
        "plt.show()"
      ],
      "metadata": {
        "colab": {
          "base_uri": "https://localhost:8080/",
          "height": 591
        },
        "id": "z81DVgvdgxJs",
        "outputId": "bc0251ea-8229-44b5-be7f-7e8472e421fa"
      },
      "execution_count": null,
      "outputs": [
        {
          "output_type": "display_data",
          "data": {
            "text/plain": [
              "<Figure size 1332x756 with 2 Axes>"
            ],
            "image/png": "[encoded data removed]"
          },
          "metadata": {
            "needs_background": "light"
          }
        }
      ]
    },
    {
      "cell_type": "code",
      "source": [
        "import matplotlib.pyplot as plt\n",
        "import numpy as np\n",
        "\n",
        "vector_lengths = ['5120', '102400', '256000', '512000']\n",
        "\n",
        "memcpy_htod = np.array([1473.85, 945.238, 1186.14, 1472.85])\n",
        "memcpy_dtoh = np.array([472.414, 342.365, 319.742, 1597.62])\n",
        "vecadd = np.array([520.029, 46.848, 39.808, 43.616])\n",
        "\n",
        "width = 0.4\n",
        "fig = plt.gcf()\n",
        "plt.bar(vector_lengths, memcpy_htod, width, label='CUDA memcpy HtoD')\n",
        "plt.bar(vector_lengths, vecadd, width, bottom=memcpy_htod, label='Kernel Execution')\n",
        "plt.bar(vector_lengths, memcpy_dtoh, width, bottom=memcpy_htod+vecadd, label='CUDA memcpy DtoH')\n",
        "\n",
        "\n",
        "plt.xlabel('Segement Size')\n",
        "plt.ylabel('Runtime (us)')\n",
        "plt.title('NVVP analysis (Vector Length = 512000)')\n",
        "plt.legend()\n",
        "\n",
        "fig.set_size_inches(18.5, 10.5, forward=True)\n",
        "plt.show()"
      ],
      "metadata": {
        "colab": {
          "base_uri": "https://localhost:8080/",
          "height": 649
        },
        "id": "9DsZp2V70BZY",
        "outputId": "8c200b1b-bbca-4e44-d722-f68104a0cb62"
      },
      "execution_count": null,
      "outputs": [
        {
          "output_type": "display_data",
          "data": {
            "text/plain": [
              "<Figure size 1332x756 with 1 Axes>"
            ],
            "image/png": "[encoded data removed]"
          },
          "metadata": {
            "needs_background": "light"
          }
        }
      ]
    },
    {
      "cell_type": "code",
      "source": [
        "%cd '/content/drive/MyDrive/DD2360HW4'\n",
        "!ls"
      ],
      "metadata": {
        "id": "s2luPQkNM35a",
        "colab": {
          "base_uri": "https://localhost:8080/"
        },
        "outputId": "4d042675-82f7-49f8-d458-a389b0f8e5ca"
      },
      "execution_count": null,
      "outputs": [
        {
          "output_type": "stream",
          "name": "stdout",
          "text": [
            "/content/drive/MyDrive/DD2360HW4\n",
            "lab4_ex2\t      lab4_ex2_512000.nvvp  lab4_ex3_pinned.cu\t lab4_ex4.cu\n",
            "lab4_ex2_102400.nvvp  lab4_ex2_5120.nvvp    lab4_ex3_unified\n",
            "lab4_ex2_256000.nvvp  lab4_ex2.cu\t    lab4_ex3_unified.cu\n",
            "lab4_ex2_256.nvvp     lab4_ex3_pinned\t    lab4_ex4\n"
          ]
        }
      ]
    },
    {
      "cell_type": "code",
      "source": [
        "!nvcc -arch=sm_75 ./lab4_ex3_pinned.cu -o lab4_ex3_pinned"
      ],
      "metadata": {
        "id": "6lkszEjD2uBf"
      },
      "execution_count": null,
      "outputs": []
    },
    {
      "cell_type": "code",
      "source": [
        "!nvprof ./lab4_ex3_pinned 512 1024 1024 4096"
      ],
      "metadata": {
        "colab": {
          "base_uri": "https://localhost:8080/"
        },
        "id": "x2pKqwGl7Aum",
        "outputId": "026afa4a-b105-41a1-a0ae-e4d3db39bb75"
      },
      "execution_count": null,
      "outputs": [
        {
          "output_type": "stream",
          "name": "stdout",
          "text": [
            "Input matrix dim (512 x 1024) (1024 x 4096) (512 x 4096)\n",
            "==24176== NVPROF is profiling process 24176, command: ./lab4_ex3_pinned 512 1024 1024 4096\n",
            "Result is equal to reference==24176== Profiling application: ./lab4_ex3_pinned 512 1024 1024 4096\n",
            "==24176== Profiling result:\n",
            "            Type  Time(%)      Time     Calls       Avg       Min       Max  Name\n",
            " GPU activities:   90.54%  47.071ms         1  47.071ms  47.071ms  47.071ms  gemm(double*, double*, double*, int, int, int, int)\n",
            "                    6.85%  3.5620ms         2  1.7810ms  399.48us  3.1625ms  [CUDA memcpy HtoD]\n",
            "                    2.61%  1.3563ms         1  1.3563ms  1.3563ms  1.3563ms  [CUDA memcpy DtoH]\n",
            "      API calls:   83.64%  326.38ms         3  108.79ms  7.0965ms  305.01ms  cudaMallocHost\n",
            "                   13.36%  52.117ms         3  17.372ms  477.32us  48.458ms  cudaMemcpy\n",
            "                    2.34%  9.1123ms         3  3.0374ms  1.6765ms  4.9433ms  cudaFreeHost\n",
            "                    0.39%  1.5143ms         3  504.77us  181.08us  1.0905ms  cudaFree\n",
            "                    0.13%  525.62us         3  175.21us  102.13us  286.29us  cudaMalloc\n",
            "                    0.09%  348.58us         1  348.58us  348.58us  348.58us  cuDeviceTotalMem\n",
            "                    0.04%  141.25us       101  1.3980us     132ns  60.158us  cuDeviceGetAttribute\n",
            "                    0.01%  52.242us         1  52.242us  52.242us  52.242us  cudaLaunchKernel\n",
            "                    0.01%  26.408us         1  26.408us  26.408us  26.408us  cuDeviceGetName\n",
            "                    0.00%  6.9400us         1  6.9400us  6.9400us  6.9400us  cuDeviceGetPCIBusId\n",
            "                    0.00%  1.8660us         3     622ns     210ns  1.3020us  cuDeviceGetCount\n",
            "                    0.00%  1.2690us         2     634ns     246ns  1.0230us  cuDeviceGet\n",
            "                    0.00%     262ns         1     262ns     262ns     262ns  cuDeviceGetUuid\n"
          ]
        }
      ]
    },
    {
      "cell_type": "code",
      "source": [
        "!nvprof ./lab4_ex3_pinned 768 1024 1024 4096"
      ],
      "metadata": {
        "id": "ta14Bcmd7YlN",
        "colab": {
          "base_uri": "https://localhost:8080/"
        },
        "outputId": "934ea7a1-a5b6-4671-f028-e869f3cb998e"
      },
      "execution_count": null,
      "outputs": [
        {
          "output_type": "stream",
          "name": "stdout",
          "text": [
            "Input matrix dim (768 x 1024) (1024 x 4096) (768 x 4096)\n",
            "==24453== NVPROF is profiling process 24453, command: ./lab4_ex3_pinned 768 1024 1024 4096\n",
            "Result is equal to reference==24453== Profiling application: ./lab4_ex3_pinned 768 1024 1024 4096\n",
            "==24453== Profiling result:\n",
            "            Type  Time(%)      Time     Calls       Avg       Min       Max  Name\n",
            " GPU activities:   92.36%  69.821ms         1  69.821ms  69.821ms  69.821ms  gemm(double*, double*, double*, int, int, int, int)\n",
            "                    4.97%  3.7549ms         2  1.8774ms  599.47us  3.1554ms  [CUDA memcpy HtoD]\n",
            "                    2.67%  2.0213ms         1  2.0213ms  2.0213ms  2.0213ms  [CUDA memcpy DtoH]\n",
            "      API calls:   78.39%  325.06ms         3  108.35ms  10.473ms  300.30ms  cudaMallocHost\n",
            "                   18.26%  75.731ms         3  25.244ms  681.82us  71.873ms  cudaMemcpy\n",
            "                    2.66%  11.050ms         3  3.6833ms  2.3364ms  5.1087ms  cudaFreeHost\n",
            "                    0.39%  1.6038ms         3  534.59us  173.79us  1.0995ms  cudaFree\n",
            "                    0.13%  543.31us         3  181.10us  117.52us  276.62us  cudaMalloc\n",
            "                    0.10%  413.41us         1  413.41us  413.41us  413.41us  cuDeviceTotalMem\n",
            "                    0.04%  154.62us       101  1.5300us     144ns  64.837us  cuDeviceGetAttribute\n",
            "                    0.02%  72.731us         1  72.731us  72.731us  72.731us  cudaLaunchKernel\n",
            "                    0.01%  34.114us         1  34.114us  34.114us  34.114us  cuDeviceGetName\n",
            "                    0.00%  5.7830us         1  5.7830us  5.7830us  5.7830us  cuDeviceGetPCIBusId\n",
            "                    0.00%  2.0690us         3     689ns     238ns  1.2900us  cuDeviceGetCount\n",
            "                    0.00%  1.6010us         2     800ns     453ns  1.1480us  cuDeviceGet\n",
            "                    0.00%     297ns         1     297ns     297ns     297ns  cuDeviceGetUuid\n"
          ]
        }
      ]
    },
    {
      "cell_type": "code",
      "source": [
        "!nvprof ./lab4_ex3_pinned 768 1280 1280 5120"
      ],
      "metadata": {
        "id": "-P25XKH48ASP",
        "colab": {
          "base_uri": "https://localhost:8080/"
        },
        "outputId": "f939b7c4-0357-4240-caaf-27960a2eff82"
      },
      "execution_count": null,
      "outputs": [
        {
          "output_type": "stream",
          "name": "stdout",
          "text": [
            "Input matrix dim (768 x 1280) (1280 x 5120) (768 x 5120)\n",
            "==24850== NVPROF is profiling process 24850, command: ./lab4_ex3_pinned 768 1280 1280 5120\n",
            "Result is equal to reference==24850== Profiling application: ./lab4_ex3_pinned 768 1280 1280 5120\n",
            "==24850== Profiling result:\n",
            "            Type  Time(%)      Time     Calls       Avg       Min       Max  Name\n",
            " GPU activities:   93.04%  108.93ms         1  108.93ms  108.93ms  108.93ms  gemm(double*, double*, double*, int, int, int, int)\n",
            "                    4.79%  5.6086ms         2  2.8043ms  741.77us  4.8669ms  [CUDA memcpy HtoD]\n",
            "                    2.16%  2.5337ms         1  2.5337ms  2.5337ms  2.5337ms  [CUDA memcpy DtoH]\n",
            "      API calls:   71.60%  344.91ms         3  114.97ms  15.973ms  305.16ms  cudaMallocHost\n",
            "                   24.33%  117.20ms         3  39.068ms  830.68us  111.49ms  cudaMemcpy\n",
            "                    3.38%  16.273ms         3  5.4245ms  3.3052ms  8.2605ms  cudaFreeHost\n",
            "                    0.36%  1.7500ms         3  583.32us  220.58us  1.0971ms  cudaFree\n",
            "                    0.13%  632.13us         3  210.71us  131.39us  336.12us  cudaMalloc\n",
            "                    0.12%  578.05us         1  578.05us  578.05us  578.05us  cuDeviceTotalMem\n",
            "                    0.04%  192.82us       101  1.9090us     241ns  79.200us  cuDeviceGetAttribute\n",
            "                    0.03%  135.37us         1  135.37us  135.37us  135.37us  cudaLaunchKernel\n",
            "                    0.01%  30.025us         1  30.025us  30.025us  30.025us  cuDeviceGetName\n",
            "                    0.00%  5.9780us         1  5.9780us  5.9780us  5.9780us  cuDeviceGetPCIBusId\n",
            "                    0.00%  1.8480us         3     616ns     254ns     934ns  cuDeviceGetCount\n",
            "                    0.00%  1.1890us         2     594ns     309ns     880ns  cuDeviceGet\n",
            "                    0.00%     436ns         1     436ns     436ns     436ns  cuDeviceGetUuid\n"
          ]
        }
      ]
    },
    {
      "cell_type": "code",
      "source": [
        "import matplotlib.pyplot as plt\n",
        "import numpy as np\n",
        "\n",
        "MatrixSize = ['(512x1024)x(1024x4096)', '(768x1024)x(1024x4096)', '(768x1280)x(1280x5120)']\n",
        "\n",
        "memcpy_htod = np.array([3.5620, 3.7549, 5.6086])\n",
        "memcpy_dtoh = np.array([1.3563, 2.0213, 2.5337])\n",
        "kernel = np.array([47.071, 69.821, 108.93])\n",
        "\n",
        "width = 0.4\n",
        "fig = plt.gcf()\n",
        "plt.bar(MatrixSize, memcpy_htod, width, label='CUDA memcpy HtoD')\n",
        "plt.bar(MatrixSize, kernel, width, bottom=memcpy_htod, label='Kernel Execution')\n",
        "plt.bar(MatrixSize, memcpy_dtoh, width, bottom=memcpy_htod+kernel, label='CUDA memcpy DtoH')\n",
        "\n",
        "\n",
        "plt.xlabel('Matrix Size')\n",
        "plt.ylabel('Runtime (ms)')\n",
        "plt.title('Comparison between original version and pinned memory')\n",
        "plt.legend()\n",
        "\n",
        "fig.set_size_inches(10, 10, forward=True)\n",
        "plt.show()"
      ],
      "metadata": {
        "colab": {
          "base_uri": "https://localhost:8080/",
          "height": 621
        },
        "id": "5QRIvCoeyHUM",
        "outputId": "138d5de5-43f1-4a2f-e166-6bab8c6b42e9"
      },
      "execution_count": null,
      "outputs": [
        {
          "output_type": "display_data",
          "data": {
            "text/plain": [
              "<Figure size 720x720 with 1 Axes>"
            ],
            "image/png": "[encoded data removed]"
          },
          "metadata": {
            "needs_background": "light"
          }
        }
      ]
    },
    {
      "cell_type": "code",
      "source": [
        "!nvcc -arch=sm_75 ./lab4_ex3_unified.cu -o lab4_ex3_unified"
      ],
      "metadata": {
        "id": "c5kopLStHsbu"
      },
      "execution_count": null,
      "outputs": []
    },
    {
      "cell_type": "code",
      "source": [
        "!./lab4_ex3_unified 128 256 256 512"
      ],
      "metadata": {
        "colab": {
          "base_uri": "https://localhost:8080/"
        },
        "id": "-st-5EbREuxE",
        "outputId": "1767a44c-53da-4fdd-994b-f0960a60613f"
      },
      "execution_count": null,
      "outputs": [
        {
          "output_type": "stream",
          "name": "stdout",
          "text": [
            "Input matrix dim (128 x 256) (256 x 512) (128 x 512)\n",
            "Result is equal to reference"
          ]
        }
      ]
    },
    {
      "cell_type": "code",
      "source": [
        "!nvprof ./lab4_ex3_unified 512 1024 1024 4096"
      ],
      "metadata": {
        "colab": {
          "base_uri": "https://localhost:8080/"
        },
        "id": "B3uVDtsVEXqz",
        "outputId": "a856f3ff-e0d1-44fb-9cfa-160e93f79a1e"
      },
      "execution_count": null,
      "outputs": [
        {
          "output_type": "stream",
          "name": "stdout",
          "text": [
            "Input matrix dim (512 x 1024) (1024 x 4096) (512 x 4096)\n",
            "==3370== NVPROF is profiling process 3370, command: ./lab4_ex3_unified 512 1024 1024 4096\n",
            "Result is equal to reference==3370== Profiling application: ./lab4_ex3_unified 512 1024 1024 4096\n",
            "==3370== Profiling result:\n",
            "            Type  Time(%)      Time     Calls       Avg       Min       Max  Name\n",
            " GPU activities:  100.00%  61.691ms         1  61.691ms  61.691ms  61.691ms  gemm(double*, double*, double*, int, int, int, int)\n",
            "      API calls:   82.06%  299.45ms         3  99.817ms  12.156us  299.38ms  cudaMallocManaged\n",
            "                   16.91%  61.702ms         1  61.702ms  61.702ms  61.702ms  cudaDeviceSynchronize\n",
            "                    0.86%  3.1335ms         3  1.0445ms  301.41us  1.7326ms  cudaFree\n",
            "                    0.10%  374.63us         1  374.63us  374.63us  374.63us  cuDeviceTotalMem\n",
            "                    0.04%  141.98us       101  1.4050us     134ns  59.234us  cuDeviceGetAttribute\n",
            "                    0.02%  80.644us         1  80.644us  80.644us  80.644us  cudaLaunchKernel\n",
            "                    0.01%  28.187us         1  28.187us  28.187us  28.187us  cuDeviceGetName\n",
            "                    0.00%  5.8360us         1  5.8360us  5.8360us  5.8360us  cuDeviceGetPCIBusId\n",
            "                    0.00%  1.4070us         2     703ns     253ns  1.1540us  cuDeviceGet\n",
            "                    0.00%  1.3880us         3     462ns     174ns     939ns  cuDeviceGetCount\n",
            "                    0.00%     288ns         1     288ns     288ns     288ns  cuDeviceGetUuid\n",
            "\n",
            "==3370== Unified Memory profiling result:\n",
            "Device \"Tesla T4 (0)\"\n",
            "   Count  Avg Size  Min Size  Max Size  Total Size  Total Time  Name\n",
            "     809  45.566KB  4.0000KB  892.00KB  36.00000MB  5.168153ms  Host To Device\n",
            "      96  170.67KB  4.0000KB  0.9961MB  16.00000MB  1.440816ms  Device To Host\n",
            "     111         -         -         -           -  16.23376ms  Gpu page fault groups\n",
            "Total CPU Page faults: 156\n"
          ]
        }
      ]
    },
    {
      "cell_type": "code",
      "source": [
        "!nvprof ./lab4_ex3_unified 768 1024 1024 4096"
      ],
      "metadata": {
        "colab": {
          "base_uri": "https://localhost:8080/"
        },
        "id": "ZXd8ovRoGhIX",
        "outputId": "b3c2007f-12f9-4d30-dd85-1db8e03a5d27"
      },
      "execution_count": null,
      "outputs": [
        {
          "output_type": "stream",
          "name": "stdout",
          "text": [
            "Input matrix dim (768 x 1024) (1024 x 4096) (768 x 4096)\n",
            "==3651== NVPROF is profiling process 3651, command: ./lab4_ex3_unified 768 1024 1024 4096\n",
            "Result is equal to reference==3651== Profiling application: ./lab4_ex3_unified 768 1024 1024 4096\n",
            "==3651== Profiling result:\n",
            "            Type  Time(%)      Time     Calls       Avg       Min       Max  Name\n",
            " GPU activities:  100.00%  85.744ms         1  85.744ms  85.744ms  85.744ms  gemm(double*, double*, double*, int, int, int, int)\n",
            "      API calls:   77.37%  309.02ms         3  103.01ms  17.036us  308.90ms  cudaMallocManaged\n",
            "                   21.47%  85.760ms         1  85.760ms  85.760ms  85.760ms  cudaDeviceSynchronize\n",
            "                    0.99%  3.9570ms         3  1.3190ms  475.49us  1.7417ms  cudaFree\n",
            "                    0.10%  384.66us         1  384.66us  384.66us  384.66us  cuDeviceTotalMem\n",
            "                    0.04%  148.27us       101  1.4670us     133ns  63.741us  cuDeviceGetAttribute\n",
            "                    0.02%  73.423us         1  73.423us  73.423us  73.423us  cudaLaunchKernel\n",
            "                    0.01%  30.748us         1  30.748us  30.748us  30.748us  cuDeviceGetName\n",
            "                    0.00%  5.5430us         1  5.5430us  5.5430us  5.5430us  cuDeviceGetPCIBusId\n",
            "                    0.00%  1.9400us         3     646ns     203ns  1.3980us  cuDeviceGetCount\n",
            "                    0.00%  1.5380us         2     769ns     360ns  1.1780us  cuDeviceGet\n",
            "                    0.00%     273ns         1     273ns     273ns     273ns  cuDeviceGetUuid\n",
            "\n",
            "==3651== Unified Memory profiling result:\n",
            "Device \"Tesla T4 (0)\"\n",
            "   Count  Avg Size  Min Size  Max Size  Total Size  Total Time  Name\n",
            "     824  47.223KB  4.0000KB  0.9922MB  38.00000MB  6.289330ms  Host To Device\n",
            "     144  170.67KB  4.0000KB  0.9961MB  24.00000MB  2.168905ms  Device To Host\n",
            "     152         -         -         -           -  18.64726ms  Gpu page fault groups\n",
            "Total CPU Page faults: 186\n"
          ]
        }
      ]
    },
    {
      "cell_type": "code",
      "source": [
        "!nvprof ./lab4_ex3_unified 768 1280 1280 5120"
      ],
      "metadata": {
        "colab": {
          "base_uri": "https://localhost:8080/"
        },
        "id": "nRM9efW7GkIG",
        "outputId": "bb2359ee-03e4-48e9-fea0-bd952a0f009f"
      },
      "execution_count": null,
      "outputs": [
        {
          "output_type": "stream",
          "name": "stdout",
          "text": [
            "Input matrix dim (768 x 1280) (1280 x 5120) (768 x 5120)\n",
            "==3852== NVPROF is profiling process 3852, command: ./lab4_ex3_unified 768 1280 1280 5120\n",
            "Result is equal to reference==3852== Profiling application: ./lab4_ex3_unified 768 1280 1280 5120\n",
            "==3852== Profiling result:\n",
            "            Type  Time(%)      Time     Calls       Avg       Min       Max  Name\n",
            " GPU activities:  100.00%  133.04ms         1  133.04ms  133.04ms  133.04ms  gemm(double*, double*, double*, int, int, int, int)\n",
            "      API calls:   69.23%  313.30ms         3  104.43ms  18.348us  313.23ms  cudaMallocManaged\n",
            "                   29.40%  133.05ms         1  133.05ms  133.05ms  133.05ms  cudaDeviceSynchronize\n",
            "                    1.22%  5.5378ms         3  1.8459ms  592.28us  2.7478ms  cudaFree\n",
            "                    0.08%  366.36us         1  366.36us  366.36us  366.36us  cuDeviceTotalMem\n",
            "                    0.04%  160.12us       101  1.5850us     140ns  63.081us  cuDeviceGetAttribute\n",
            "                    0.02%  104.59us         1  104.59us  104.59us  104.59us  cudaLaunchKernel\n",
            "                    0.01%  30.525us         1  30.525us  30.525us  30.525us  cuDeviceGetName\n",
            "                    0.00%  7.5800us         1  7.5800us  7.5800us  7.5800us  cuDeviceGetPCIBusId\n",
            "                    0.00%  1.5800us         3     526ns     184ns  1.0730us  cuDeviceGetCount\n",
            "                    0.00%  1.3630us         2     681ns     430ns     933ns  cuDeviceGet\n",
            "                    0.00%     268ns         1     268ns     268ns     268ns  cuDeviceGetUuid\n",
            "\n",
            "==3852== Unified Memory profiling result:\n",
            "Device \"Tesla T4 (0)\"\n",
            "   Count  Avg Size  Min Size  Max Size  Total Size  Total Time  Name\n",
            "    1132  52.014KB  4.0000KB  0.9805MB  57.50000MB  7.842796ms  Host To Device\n",
            "     252  121.90KB  4.0000KB  0.9961MB  30.00000MB  2.840350ms  Device To Host\n",
            "     192         -         -         -           -  22.66924ms  Gpu page fault groups\n",
            "Total CPU Page faults: 264\n"
          ]
        }
      ]
    },
    {
      "cell_type": "code",
      "source": [
        "import matplotlib.pyplot as plt\n",
        "import numpy as np\n",
        "\n",
        "MatrixSize = ['(512x1024)x(1024x4096)', '(768x1024)x(1024x4096)', '(768x1280)x(1280x5120)']\n",
        "\n",
        "kernel = np.array([61.691, 85.744, 133.04])\n",
        "\n",
        "width = 0.4\n",
        "fig = plt.gcf()\n",
        "\n",
        "plt.bar(MatrixSize, kernel, width, label='Kernel Execution')\n",
        "\n",
        "plt.xlabel('Matrix Size')\n",
        "plt.ylabel('Runtime (ms)')\n",
        "plt.title('Comparison between original version and unified memory')\n",
        "plt.legend()\n",
        "\n",
        "fig.set_size_inches(10, 10, forward=True)\n",
        "plt.show()"
      ],
      "metadata": {
        "colab": {
          "base_uri": "https://localhost:8080/",
          "height": 621
        },
        "id": "-kHrZgrplhOr",
        "outputId": "25e1049b-37ba-4c9a-a2f3-645eb5310c46"
      },
      "execution_count": null,
      "outputs": [
        {
          "output_type": "display_data",
          "data": {
            "text/plain": [
              "<Figure size 720x720 with 1 Axes>"
            ],
            "image/png": "[encoded data removed]"
          },
          "metadata": {
            "needs_background": "light"
          }
        }
      ]
    },
    {
      "cell_type": "code",
      "source": [
        "%cd '/content/drive/MyDrive/DD2360HW4'\n",
        "!ls"
      ],
      "metadata": {
        "colab": {
          "base_uri": "https://localhost:8080/"
        },
        "id": "kk3XGAGbxuVN",
        "outputId": "9aaff009-89bd-4332-f723-18eaa8cd61cf"
      },
      "execution_count": null,
      "outputs": [
        {
          "output_type": "stream",
          "name": "stdout",
          "text": [
            "/content/drive/MyDrive/DD2360HW4\n",
            "lab4_ex2\t      lab4_ex2_512000.nvvp  lab4_ex3_pinned.cu\t lab4_ex4.cu\n",
            "lab4_ex2_102400.nvvp  lab4_ex2_5120.nvvp    lab4_ex3_unified\n",
            "lab4_ex2_256000.nvvp  lab4_ex2.cu\t    lab4_ex3_unified.cu\n",
            "lab4_ex2_256.nvvp     lab4_ex3_pinned\t    lab4_ex4\n"
          ]
        }
      ]
    },
    {
      "cell_type": "code",
      "source": [
        "!nvcc lab4_ex4.cu -lcusparse -lcublas -o lab4_ex4"
      ],
      "metadata": {
        "id": "gt-6roBap_bP"
      },
      "execution_count": null,
      "outputs": []
    },
    {
      "cell_type": "code",
      "source": [
        "!./lab4_ex4 4 2"
      ],
      "metadata": {
        "colab": {
          "base_uri": "https://localhost:8080/"
        },
        "id": "S-RYmoyJI4IF",
        "outputId": "b9e97f80-48fe-418c-e1db-409db67327f0"
      },
      "execution_count": null,
      "outputs": [
        {
          "output_type": "stream",
          "name": "stdout",
          "text": [
            "The X dimension of the grid is 4 \n",
            "The number of time steps to perform is 2 \n",
            "Timing - Allocating device memory. \t\tElasped 226536 microseconds \n",
            "Timing - Prefetching GPU memory to the host. \t\tElasped 1026 microseconds \n",
            "Timing - Initializing the sparse matrix on the host. \t\tElasped 0 microseconds \n",
            "Timing - Initializing memory on the host. \t\tElasped 0 microseconds \n",
            "Timing - Prefetching GPU memory to the device. \t\tElasped 191 microseconds \n",
            "Timing - SpMV. \t\tElasped 12 microseconds \n",
            "The relative error of the approximation is 0.298592\n"
          ]
        }
      ]
    },
    {
      "cell_type": "code",
      "source": [
        "!./lab4_ex4 8 2"
      ],
      "metadata": {
        "colab": {
          "base_uri": "https://localhost:8080/"
        },
        "id": "KfJQvMGJIyVe",
        "outputId": "7130a118-6d5c-4811-922d-8630cb9eb5a3"
      },
      "execution_count": null,
      "outputs": [
        {
          "output_type": "stream",
          "name": "stdout",
          "text": [
            "The X dimension of the grid is 8 \n",
            "The number of time steps to perform is 2 \n",
            "Timing - Allocating device memory. \t\tElasped 83062 microseconds \n",
            "Timing - Prefetching GPU memory to the host. \t\tElasped 64 microseconds \n",
            "Timing - Initializing the sparse matrix on the host. \t\tElasped 1 microseconds \n",
            "Timing - Initializing memory on the host. \t\tElasped 0 microseconds \n",
            "Timing - Prefetching GPU memory to the device. \t\tElasped 290 microseconds \n",
            "Timing - SpMV. \t\tElasped 7 microseconds \n",
            "The relative error of the approximation is 1.231768\n"
          ]
        }
      ]
    },
    {
      "cell_type": "code",
      "source": [
        "!./lab4_ex4 16 2"
      ],
      "metadata": {
        "colab": {
          "base_uri": "https://localhost:8080/"
        },
        "id": "LP8HDhfjIvUt",
        "outputId": "71cef121-89cc-489b-c28c-4071bdd814e9"
      },
      "execution_count": null,
      "outputs": [
        {
          "output_type": "stream",
          "name": "stdout",
          "text": [
            "The X dimension of the grid is 16 \n",
            "The number of time steps to perform is 2 \n",
            "Timing - Allocating device memory. \t\tElasped 83355 microseconds \n",
            "Timing - Prefetching GPU memory to the host. \t\tElasped 43 microseconds \n",
            "Timing - Initializing the sparse matrix on the host. \t\tElasped 0 microseconds \n",
            "Timing - Initializing memory on the host. \t\tElasped 0 microseconds \n",
            "Timing - Prefetching GPU memory to the device. \t\tElasped 223 microseconds \n",
            "Timing - SpMV. \t\tElasped 6 microseconds \n",
            "The relative error of the approximation is 2.147572\n"
          ]
        }
      ]
    },
    {
      "cell_type": "code",
      "source": [
        "!./lab4_ex4 32 2"
      ],
      "metadata": {
        "colab": {
          "base_uri": "https://localhost:8080/"
        },
        "id": "Q7D1r2_Yr6Q1",
        "outputId": "2bad1cda-14fb-4386-f54d-8f48dcd2d53f"
      },
      "execution_count": null,
      "outputs": [
        {
          "output_type": "stream",
          "name": "stdout",
          "text": [
            "The X dimension of the grid is 32 \n",
            "The number of time steps to perform is 2 \n",
            "Timing - Allocating device memory. \t\tElasped 81594 microseconds \n",
            "Timing - Prefetching GPU memory to the host. \t\tElasped 69 microseconds \n",
            "Timing - Initializing the sparse matrix on the host. \t\tElasped 1 microseconds \n",
            "Timing - Initializing memory on the host. \t\tElasped 0 microseconds \n",
            "Timing - Prefetching GPU memory to the device. \t\tElasped 216 microseconds \n",
            "Timing - SpMV. \t\tElasped 5 microseconds \n",
            "The relative error of the approximation is 3.288533\n"
          ]
        }
      ]
    },
    {
      "cell_type": "code",
      "source": [
        "!./lab4_ex4 64 2"
      ],
      "metadata": {
        "colab": {
          "base_uri": "https://localhost:8080/"
        },
        "id": "hsUnzMe1yB4i",
        "outputId": "a228373e-26cb-4fad-9b85-ebb6cc05ab7a"
      },
      "execution_count": null,
      "outputs": [
        {
          "output_type": "stream",
          "name": "stdout",
          "text": [
            "The X dimension of the grid is 64 \n",
            "The number of time steps to perform is 2 \n",
            "Timing - Allocating device memory. \t\tElasped 88552 microseconds \n",
            "Timing - Prefetching GPU memory to the host. \t\tElasped 65 microseconds \n",
            "Timing - Initializing the sparse matrix on the host. \t\tElasped 2 microseconds \n",
            "Timing - Initializing memory on the host. \t\tElasped 1 microseconds \n",
            "Timing - Prefetching GPU memory to the device. \t\tElasped 291 microseconds \n",
            "Timing - SpMV. \t\tElasped 6 microseconds \n",
            "The relative error of the approximation is 4.819221\n"
          ]
        }
      ]
    },
    {
      "cell_type": "code",
      "source": [
        "!./lab4_ex4 128 2"
      ],
      "metadata": {
        "colab": {
          "base_uri": "https://localhost:8080/"
        },
        "id": "ZsPqEvNCyEvh",
        "outputId": "3074d2a5-b320-4939-aa01-2862af56cbce"
      },
      "execution_count": null,
      "outputs": [
        {
          "output_type": "stream",
          "name": "stdout",
          "text": [
            "The X dimension of the grid is 128 \n",
            "The number of time steps to perform is 2 \n",
            "Timing - Allocating device memory. \t\tElasped 85030 microseconds \n",
            "Timing - Prefetching GPU memory to the host. \t\tElasped 45 microseconds \n",
            "Timing - Initializing the sparse matrix on the host. \t\tElasped 3 microseconds \n",
            "Timing - Initializing memory on the host. \t\tElasped 0 microseconds \n",
            "Timing - Prefetching GPU memory to the device. \t\tElasped 339 microseconds \n",
            "Timing - SpMV. \t\tElasped 7 microseconds \n",
            "The relative error of the approximation is 6.931700\n"
          ]
        }
      ]
    },
    {
      "cell_type": "code",
      "source": [
        "!./lab4_ex4 256 2"
      ],
      "metadata": {
        "colab": {
          "base_uri": "https://localhost:8080/"
        },
        "id": "T3tsJVGVyGAE",
        "outputId": "e37af663-eeee-4028-fbbd-18fea42a099e"
      },
      "execution_count": null,
      "outputs": [
        {
          "output_type": "stream",
          "name": "stdout",
          "text": [
            "The X dimension of the grid is 256 \n",
            "The number of time steps to perform is 2 \n",
            "Timing - Allocating device memory. \t\tElasped 79898 microseconds \n",
            "Timing - Prefetching GPU memory to the host. \t\tElasped 52 microseconds \n",
            "Timing - Initializing the sparse matrix on the host. \t\tElasped 5 microseconds \n",
            "Timing - Initializing memory on the host. \t\tElasped 26 microseconds \n",
            "Timing - Prefetching GPU memory to the device. \t\tElasped 287 microseconds \n",
            "Timing - SpMV. \t\tElasped 12 microseconds \n",
            "The relative error of the approximation is 9.884174\n"
          ]
        }
      ]
    },
    {
      "cell_type": "code",
      "source": [
        "!bash ./run.sh"
      ],
      "metadata": {
        "id": "afPNXeYS2x8g"
      },
      "execution_count": null,
      "outputs": []
    },
    {
      "cell_type": "code",
      "source": [
        "from matplotlib import pyplot as plt\n",
        "import numpy as np\n",
        "\n",
        "x = np.arange(100, 10001, 100);\n",
        "y = np.array([\n",
        "3.318021,2.723174,2.396107,2.172265,2.002595,1.866023,1.751605,1.652951,1.566021,1.488118,1.417372,1.352447,1.292369,1.236412,1.184024,1.134780,1.088344,1.044448,1.002871,0.963428,0.925962,0.890336,0.856431,0.824139,0.793362,0.764012,0.736008,0.709273,0.683739,0.659339,0.636013,0.613703,0.592355,0.571920,0.552349,0.533599,0.515628,0.498395,0.481865,0.466001,0.450771,0.436144,0.422091,0.408584,0.395597,0.383105,0.371086,0.359517,0.348377,0.337648,0.327310,0.317347,0.307740,0.298476,0.289539,0.280915,0.272590,0.264552,0.256789,0.249290,0.242044,0.235040,0.228269,0.221721,0.215387,0.209260,0.203331,0.197592,0.192037,0.186658,0.181448,0.176402,0.171513,0.166775,0.162183,0.157732,0.153417,0.149232,0.145174,0.141237,0.137418,0.133713,0.130117,0.126627,0.123239,0.119950,0.116756,0.113655,0.110643,0.107718,0.104876,0.102115,0.099433,0.096826,0.094292,0.091830,0.089436,0.087109,0.084847,0.082647])\n",
        "\n",
        "plt.plot(x, y, linewidth=2.0)\n",
        "plt.xlabel(\"nsteps\")\n",
        "plt.ylabel(\"Relative error of the approximation\")\n",
        "plt.show()"
      ],
      "metadata": {
        "colab": {
          "base_uri": "https://localhost:8080/",
          "height": 279
        },
        "id": "qO_oGao6CnyN",
        "outputId": "017388a2-bc0f-446d-edd4-ba3280615927"
      },
      "execution_count": null,
      "outputs": [
        {
          "output_type": "display_data",
          "data": {
            "text/plain": [
              "<Figure size 432x288 with 1 Axes>"
            ],
            "image/png": "[encoded data removed]"
          },
          "metadata": {
            "needs_background": "light"
          }
        }
      ]
    },
    {
      "cell_type": "code",
      "source": [
        "!nvprof ./lab4_ex4 128 1000"
      ],
      "metadata": {
        "colab": {
          "base_uri": "https://localhost:8080/"
        },
        "id": "wgPURFzxIFVP",
        "outputId": "ba68794f-56a3-4749-82ac-4cea4238a0ca"
      },
      "execution_count": null,
      "outputs": [
        {
          "output_type": "stream",
          "name": "stdout",
          "text": [
            "The X dimension of the grid is 128 \n",
            "The number of time steps to perform is 1000 \n",
            "==29735== NVPROF is profiling process 29735, command: ./lab4_ex4 128 1000\n",
            "Timing - Allocating device memory. \t\tElasped 239700 microseconds \n",
            "Timing - Prefetching GPU memory to the host. \t\tElasped 105 microseconds \n",
            "Timing - Initializing the sparse matrix on the host. \t\tElasped 3 microseconds \n",
            "Timing - Initializing memory on the host. \t\tElasped 0 microseconds \n",
            "Timing - Prefetching GPU memory to the device. \t\tElasped 313 microseconds \n",
            "Timing - SpMV. \t\tElasped 15801 microseconds \n",
            "The relative error of the approximation is 1.488118\n",
            "==29735== Profiling application: ./lab4_ex4 128 1000\n",
            "==29735== Profiling result:\n",
            "            Type  Time(%)      Time     Calls       Avg       Min       Max  Name\n",
            " GPU activities:   75.42%  95.064ms      2004  47.437us  43.807us  52.735us  void nrm2_kernel<double, double, double, int=0, int=0, int=128>(cublasNrm2Params<double, double>)\n",
            "                   12.84%  16.187ms      1000  16.186us  16.095us  16.800us  _ZN8cusparse21load_balancing_kernelILj512ELj4ELm16384EiiNS_7CsrmvOpILi512EdLb0EEEJKiKdS4_didEEEvPKT3_T2_S5_S5_iPKS8_T4_DpPT5_\n",
            "                    5.45%  6.8714ms      1000  6.8710us  6.7840us  13.535us  _ZN8cusparse30binary_search_partition_kernelILi128ELi2048EiiNS_6ScaleYINS_20MatrixWiseMulPolicy1ILb0EdEEidEEJdEEEvPKT2_T1_S5_iPS8_T3_DpPT4_\n",
            "                    3.85%  4.8535ms      1001  4.8480us  4.7670us  13.376us  void axpy_kernel_val<double, double>(cublasAxpyParamsVal<double, double, double>)\n",
            "                    1.28%  1.6197ms      1002  1.6160us  1.5680us  2.0800us  [CUDA memcpy DtoH]\n",
            "                    1.15%  1.4547ms      1002  1.4510us  1.4070us  2.4000us  [CUDA memcpy HtoD]\n",
            "                    0.00%  4.4480us         1  4.4480us  4.4480us  4.4480us  void thrust::cuda_cub::core::_kernel_agent<thrust::cuda_cub::__parallel_for::ParallelForAgent<thrust::cuda_cub::__tabulate::functor<thrust::device_ptr<double>, thrust::detail::functional::actor<thrust::detail::functional::composite<thrust::detail::functional::transparent_binary_operator<thrust::plus<void>>, thrust::detail::functional::value<double>, thrust::detail::functional::actor<thrust::detail::functional::composite<thrust::detail::functional::transparent_binary_operator<thrust::multiplies<void>>, thrust::detail::functional::value<double>, thrust::detail::functional::actor<thrust::detail::functional::argument<unsigned int=0>>, thrust::null_type, thrust::null_type, thrust::null_type, thrust::null_type, thrust::null_type, thrust::null_type, thrust::null_type, thrust::null_type>>, thrust::null_type, thrust::null_type, thrust::null_type, thrust::null_type, thrust::null_type, thrust::null_type, thrust::null_type, thrust::null_type>>, long>, long>, thrust::cuda_cub::__tabulate::functor<thrust::device_ptr<double>, thrust::detail::functional::actor<thrust::detail::functional::composite<thrust::detail::functional::transparent_binary_operator<thrust::plus<void>>, thrust::detail::functional::value<double>, thrust::detail::functional::actor<thrust::detail::functional::composite<thrust::detail::functional::transparent_binary_operator<thrust::multiplies<void>>, thrust::detail::functional::value<double>, thrust::detail::functional::actor<thrust::detail::functional::argument<unsigned int=0>>, thrust::null_type, thrust::null_type, thrust::null_type, thrust::null_type, thrust::null_type, thrust::null_type, thrust::null_type, thrust::null_type>>, thrust::null_type, thrust::null_type, thrust::null_type, thrust::null_type, thrust::null_type, thrust::null_type, thrust::null_type, thrust::null_type>>, long>, long>(thrust::device_ptr<double>, void)\n",
            "      API calls:   73.27%  1.08994s        12  90.828ms  4.4600us  478.34ms  cudaFree\n",
            "                   16.11%  239.69ms         5  47.938ms  3.9430us  239.66ms  cudaMallocManaged\n",
            "                    7.35%  109.32ms      2004  54.551us  3.1580us  186.41us  cudaMemcpyAsync\n",
            "                    2.18%  32.438ms      5006  6.4790us  3.5430us  251.72us  cudaLaunchKernel\n",
            "                    0.24%  3.5367ms      1003  3.5260us  1.9590us  22.107us  cudaFuncGetAttributes\n",
            "                    0.16%  2.4377ms      1003  2.4300us  1.5910us  41.486us  cudaStreamSynchronize\n",
            "                    0.13%  1.9949ms      1002  1.9900us  1.4420us  14.751us  cudaEventQuery\n",
            "                    0.13%  1.9269ms      6021     320ns     133ns  17.950us  cudaGetLastError\n",
            "                    0.12%  1.8431ms      3006     613ns     303ns  23.739us  cudaStreamGetCaptureInfo\n",
            "                    0.11%  1.5636ms         4  390.89us  361.40us  454.16us  cuDeviceTotalMem\n",
            "                    0.08%  1.2358ms      1002  1.2330us     719ns  20.931us  cudaEventRecord\n",
            "                    0.04%  630.43us       395  1.5960us     133ns  82.280us  cuDeviceGetAttribute\n",
            "                    0.03%  406.58us         6  67.763us  3.8660us  294.06us  cudaMemPrefetchAsync\n",
            "                    0.02%  286.18us         4  71.544us  4.3780us  151.31us  cudaMalloc\n",
            "                    0.01%  157.48us         1  157.48us  157.48us  157.48us  cudaGetDeviceProperties\n",
            "                    0.01%  123.50us         4  30.873us  19.774us  40.698us  cuDeviceGetName\n",
            "                    0.00%  20.029us        18  1.1120us     389ns  7.1220us  cudaEventCreateWithFlags\n",
            "                    0.00%  14.729us         7  2.1040us     436ns  5.9530us  cudaGetDevice\n",
            "                    0.00%  11.442us        18     635ns     367ns  2.1660us  cudaEventDestroy\n",
            "                    0.00%  11.388us         4  2.8470us  1.0330us  5.6300us  cudaDeviceSynchronize\n",
            "                    0.00%  9.0570us        14     646ns     302ns  1.8450us  cudaDeviceGetAttribute\n",
            "                    0.00%  7.8250us         3  2.6080us  2.1510us  3.2840us  cuInit\n",
            "                    0.00%  5.5780us         1  5.5780us  5.5780us  5.5780us  cuDeviceGetPCIBusId\n",
            "                    0.00%  2.5860us         5     517ns     275ns  1.2570us  cuDeviceGet\n",
            "                    0.00%  2.4950us         6     415ns     220ns     818ns  cuDeviceGetCount\n",
            "                    0.00%  1.8300us         1  1.8300us  1.8300us  1.8300us  cudaGetSymbolAddress\n",
            "                    0.00%  1.2060us         3     402ns     309ns     475ns  cuDriverGetVersion\n",
            "                    0.00%  1.0480us         4     262ns     201ns     306ns  cuDeviceGetUuid\n",
            "                    0.00%     392ns         2     196ns     134ns     258ns  cudaPeekAtLastError\n",
            "                    0.00%     357ns         1     357ns     357ns     357ns  cudaGetDeviceCount\n",
            "\n",
            "==29735== Unified Memory profiling result:\n",
            "Device \"Tesla T4 (0)\"\n",
            "   Count  Avg Size  Min Size  Max Size  Total Size  Total Time  Name\n",
            "       1  8.0000KB  8.0000KB  8.0000KB  8.000000KB  4.000000us  Host To Device\n"
          ]
        }
      ]
    },
    {
      "cell_type": "code",
      "source": [
        "!nvcc lab4_ex4_nonprfetch.cu -lcusparse -lcublas -o lab4_ex4_nonprefetch"
      ],
      "metadata": {
        "id": "DWSaj0n7JBFr"
      },
      "execution_count": null,
      "outputs": []
    },
    {
      "cell_type": "code",
      "source": [
        "!nvprof ./lab4_ex4_nonprefetch 128 1000"
      ],
      "metadata": {
        "colab": {
          "base_uri": "https://localhost:8080/"
        },
        "id": "b-Bp_HfKJomx",
        "outputId": "cd03893d-e262-4c4a-88bd-74a4165cdc91"
      },
      "execution_count": null,
      "outputs": [
        {
          "output_type": "stream",
          "name": "stdout",
          "text": [
            "The X dimension of the grid is 128 \n",
            "The number of time steps to perform is 1000 \n",
            "==29770== NVPROF is profiling process 29770, command: ./lab4_ex4_nonprefetch 128 1000\n",
            "Timing - Allocating device memory. \t\tElasped 223148 microseconds \n",
            "Timing - Initializing the sparse matrix on the host. \t\tElasped 82 microseconds \n",
            "Timing - Initializing memory on the host. \t\tElasped 0 microseconds \n",
            "Timing - SpMV. \t\tElasped 15524 microseconds \n",
            "The relative error of the approximation is 1.488118\n",
            "==29770== Profiling application: ./lab4_ex4_nonprefetch 128 1000\n",
            "==29770== Profiling result:\n",
            "            Type  Time(%)      Time     Calls       Avg       Min       Max  Name\n",
            " GPU activities:   75.22%  95.051ms      2004  47.430us  43.807us  52.799us  void nrm2_kernel<double, double, double, int=0, int=0, int=128>(cublasNrm2Params<double, double>)\n",
            "                   12.74%  16.102ms      1000  16.102us  16.031us  16.607us  _ZN8cusparse21load_balancing_kernelILj512ELj4ELm16384EiiNS_7CsrmvOpILi512EdLb0EEEJKiKdS4_didEEEvPKT3_T2_S5_S5_iPKS8_T4_DpPT5_\n",
            "                    5.71%  7.2164ms      1000  7.2160us  6.7830us  387.58us  _ZN8cusparse30binary_search_partition_kernelILi128ELi2048EiiNS_6ScaleYINS_20MatrixWiseMulPolicy1ILb0EdEEidEEJdEEEvPKT2_T1_S5_iPS8_T3_DpPT4_\n",
            "                    3.87%  4.8885ms      1001  4.8830us  4.7680us  14.688us  void axpy_kernel_val<double, double>(cublasAxpyParamsVal<double, double, double>)\n",
            "                    1.29%  1.6347ms      1002  1.6310us  1.5990us  8.3830us  [CUDA memcpy DtoH]\n",
            "                    1.15%  1.4584ms      1002  1.4550us  1.4070us  2.2720us  [CUDA memcpy HtoD]\n",
            "                    0.00%  4.4150us         1  4.4150us  4.4150us  4.4150us  void thrust::cuda_cub::core::_kernel_agent<thrust::cuda_cub::__parallel_for::ParallelForAgent<thrust::cuda_cub::__tabulate::functor<thrust::device_ptr<double>, thrust::detail::functional::actor<thrust::detail::functional::composite<thrust::detail::functional::transparent_binary_operator<thrust::plus<void>>, thrust::detail::functional::value<double>, thrust::detail::functional::actor<thrust::detail::functional::composite<thrust::detail::functional::transparent_binary_operator<thrust::multiplies<void>>, thrust::detail::functional::value<double>, thrust::detail::functional::actor<thrust::detail::functional::argument<unsigned int=0>>, thrust::null_type, thrust::null_type, thrust::null_type, thrust::null_type, thrust::null_type, thrust::null_type, thrust::null_type, thrust::null_type>>, thrust::null_type, thrust::null_type, thrust::null_type, thrust::null_type, thrust::null_type, thrust::null_type, thrust::null_type, thrust::null_type>>, long>, long>, thrust::cuda_cub::__tabulate::functor<thrust::device_ptr<double>, thrust::detail::functional::actor<thrust::detail::functional::composite<thrust::detail::functional::transparent_binary_operator<thrust::plus<void>>, thrust::detail::functional::value<double>, thrust::detail::functional::actor<thrust::detail::functional::composite<thrust::detail::functional::transparent_binary_operator<thrust::multiplies<void>>, thrust::detail::functional::value<double>, thrust::detail::functional::actor<thrust::detail::functional::argument<unsigned int=0>>, thrust::null_type, thrust::null_type, thrust::null_type, thrust::null_type, thrust::null_type, thrust::null_type, thrust::null_type, thrust::null_type>>, thrust::null_type, thrust::null_type, thrust::null_type, thrust::null_type, thrust::null_type, thrust::null_type, thrust::null_type, thrust::null_type>>, long>, long>(thrust::device_ptr<double>, void)\n",
            "      API calls:   73.74%  1.07411s        12  89.509ms  12.125us  466.02ms  cudaFree\n",
            "                   15.32%  223.14ms         5  44.628ms  4.1040us  223.11ms  cudaMallocManaged\n",
            "                    7.59%  110.63ms      2004  55.202us  2.9660us  367.72us  cudaMemcpyAsync\n",
            "                    2.21%  32.161ms      5006  6.4240us  3.3550us  75.836us  cudaLaunchKernel\n",
            "                    0.25%  3.5856ms      1003  3.5740us  2.0630us  21.559us  cudaFuncGetAttributes\n",
            "                    0.23%  3.3605ms      1003  3.3500us  1.5690us  928.20us  cudaStreamSynchronize\n",
            "                    0.14%  1.9981ms      1002  1.9940us  1.4240us  19.631us  cudaEventQuery\n",
            "                    0.13%  1.8290ms      3006     608ns     323ns  6.3270us  cudaStreamGetCaptureInfo\n",
            "                    0.12%  1.7033ms      6021     282ns     138ns  12.300us  cudaGetLastError\n",
            "                    0.11%  1.5792ms         4  394.80us  365.16us  444.86us  cuDeviceTotalMem\n",
            "                    0.09%  1.2480ms      1002  1.2450us     717ns  3.9620us  cudaEventRecord\n",
            "                    0.04%  629.81us       395  1.5940us     137ns  69.643us  cuDeviceGetAttribute\n",
            "                    0.02%  285.94us         4  71.484us  4.1910us  161.57us  cudaMalloc\n",
            "                    0.01%  162.34us         1  162.34us  162.34us  162.34us  cudaGetDeviceProperties\n",
            "                    0.01%  115.51us         4  28.877us  23.793us  31.221us  cuDeviceGetName\n",
            "                    0.00%  26.474us        18  1.4700us     771ns  9.1470us  cudaEventDestroy\n",
            "                    0.00%  20.631us        18  1.1460us     392ns  8.7150us  cudaEventCreateWithFlags\n",
            "                    0.00%  16.190us         4  4.0470us  1.8010us  6.2130us  cudaDeviceSynchronize\n",
            "                    0.00%  14.047us         7  2.0060us     473ns  5.4400us  cudaGetDevice\n",
            "                    0.00%  9.1340us        14     652ns     300ns  2.0460us  cudaDeviceGetAttribute\n",
            "                    0.00%  7.6680us         3  2.5560us  1.6580us  3.3130us  cuInit\n",
            "                    0.00%  5.8630us         1  5.8630us  5.8630us  5.8630us  cuDeviceGetPCIBusId\n",
            "                    0.00%  2.9570us         6     492ns     215ns  1.1990us  cuDeviceGetCount\n",
            "                    0.00%  2.5770us         5     515ns     166ns  1.2530us  cuDeviceGet\n",
            "                    0.00%  1.5610us         3     520ns     458ns     629ns  cuDriverGetVersion\n",
            "                    0.00%  1.2310us         1  1.2310us  1.2310us  1.2310us  cudaGetSymbolAddress\n",
            "                    0.00%  1.1240us         4     281ns     264ns     300ns  cuDeviceGetUuid\n",
            "                    0.00%     777ns         1     777ns     777ns     777ns  cudaGetDeviceCount\n",
            "                    0.00%     721ns         2     360ns     291ns     430ns  cudaPeekAtLastError\n",
            "\n",
            "==29770== Unified Memory profiling result:\n",
            "Device \"Tesla T4 (0)\"\n",
            "   Count  Avg Size  Min Size  Max Size  Total Size  Total Time  Name\n",
            "       2  32.000KB  8.0000KB  56.000KB  64.00000KB  11.55200us  Host To Device\n",
            "       1         -         -         -           -  378.6810us  Gpu page fault groups\n",
            "Total CPU Page faults: 1\n"
          ]
        }
      ]
    }
  ]
}