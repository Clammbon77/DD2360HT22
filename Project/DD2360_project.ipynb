{
  "nbformat": 4,
  "nbformat_minor": 0,
  "metadata": {
    "colab": {
      "provenance": []
    },
    "kernelspec": {
      "name": "python3",
      "display_name": "Python 3"
    },
    "language_info": {
      "name": "python"
    },
    "gpuClass": "standard"
  },
  "cells": [
    {
      "cell_type": "markdown",
      "source": [
        "### **Platform information**"
      ],
      "metadata": {
        "id": "_rH6mRWyOqhL"
      }
    },
    {
      "cell_type": "code",
      "execution_count": null,
      "metadata": {
        "colab": {
          "base_uri": "https://localhost:8080/"
        },
        "id": "-TfbY8Fxbyvg",
        "outputId": "b1c9f6d0-8ba8-40ec-8440-7876d4323b0f"
      },
      "outputs": [
        {
          "output_type": "stream",
          "name": "stdout",
          "text": [
            "shell-init: error retrieving current directory: getcwd: cannot access parent directories: Transport endpoint is not connected\n",
            "nvcc: NVIDIA (R) Cuda compiler driver\n",
            "Copyright (c) 2005-2021 NVIDIA Corporation\n",
            "Built on Sun_Feb_14_21:12:58_PST_2021\n",
            "Cuda compilation tools, release 11.2, V11.2.152\n",
            "Build cuda_11.2.r11.2/compiler.29618528_0\n",
            "shell-init: error retrieving current directory: getcwd: cannot access parent directories: Transport endpoint is not connected\n",
            "Wed Jan 11 16:18:29 2023       \n",
            "+-----------------------------------------------------------------------------+\n",
            "| NVIDIA-SMI 460.32.03    Driver Version: 460.32.03    CUDA Version: 11.2     |\n",
            "|-------------------------------+----------------------+----------------------+\n",
            "| GPU  Name        Persistence-M| Bus-Id        Disp.A | Volatile Uncorr. ECC |\n",
            "| Fan  Temp  Perf  Pwr:Usage/Cap|         Memory-Usage | GPU-Util  Compute M. |\n",
            "|                               |                      |               MIG M. |\n",
            "|===============================+======================+======================|\n",
            "|   0  Tesla T4            Off  | 00000000:00:04.0 Off |                    0 |\n",
            "| N/A   39C    P8     9W /  70W |      0MiB / 15109MiB |      0%      Default |\n",
            "|                               |                      |                  N/A |\n",
            "+-------------------------------+----------------------+----------------------+\n",
            "                                                                               \n",
            "+-----------------------------------------------------------------------------+\n",
            "| Processes:                                                                  |\n",
            "|  GPU   GI   CI        PID   Type   Process name                  GPU Memory |\n",
            "|        ID   ID                                                   Usage      |\n",
            "|=============================================================================|\n",
            "|  No running processes found                                                 |\n",
            "+-----------------------------------------------------------------------------+\n"
          ]
        }
      ],
      "source": [
        "!nvcc --version\n",
        "!nvidia-smi"
      ]
    },
    {
      "cell_type": "code",
      "source": [
        "from google.colab import drive\n",
        "drive.mount('/content/drive')"
      ],
      "metadata": {
        "id": "m5Wa6mtlO3ZH",
        "colab": {
          "base_uri": "https://localhost:8080/"
        },
        "outputId": "e048468e-1335-4dc7-b716-2798a8c59605"
      },
      "execution_count": null,
      "outputs": [
        {
          "output_type": "stream",
          "name": "stdout",
          "text": [
            "Mounted at /content/drive\n"
          ]
        }
      ]
    },
    {
      "cell_type": "markdown",
      "source": [
        "### **BFS - Original Version**"
      ],
      "metadata": {
        "id": "2qtNuEvqObvj"
      }
    },
    {
      "cell_type": "code",
      "source": [
        "%cd '/content/drive/MyDrive/rodinia_3.1/cuda/bfs'\n",
        "!ls"
      ],
      "metadata": {
        "id": "1ZG5zJfwcCEB",
        "colab": {
          "base_uri": "https://localhost:8080/"
        },
        "outputId": "3b179a01-9a44-4662-dfef-640831a92b72"
      },
      "execution_count": null,
      "outputs": [
        {
          "output_type": "stream",
          "name": "stdout",
          "text": [
            "/content/drive/MyDrive/rodinia_3.1/cuda/bfs\n",
            "bfs\tkernel2.cu  Makefile\t     README\t run\n",
            "bfs.cu\tkernel.cu   Makefile_nvidia  result.txt\n"
          ]
        }
      ]
    },
    {
      "cell_type": "code",
      "source": [
        "!make clean\n",
        "!make "
      ],
      "metadata": {
        "colab": {
          "base_uri": "https://localhost:8080/"
        },
        "id": "CdUS2hr5SOMN",
        "outputId": "5d901ba0-14b6-42dd-82ce-ddb615a637ac"
      },
      "execution_count": null,
      "outputs": [
        {
          "output_type": "stream",
          "name": "stdout",
          "text": [
            "rm -f bfs bfs.linkinfo result.txt\n",
            "/usr/local/cuda/bin/nvcc bfs.cu -o bfs -I/usr/local/cuda/include -L/usr/local/cuda/lib64 \n"
          ]
        }
      ]
    },
    {
      "cell_type": "code",
      "source": [
        "!./bfs ../../data/bfs/graph1MW_6.txt"
      ],
      "metadata": {
        "colab": {
          "base_uri": "https://localhost:8080/"
        },
        "id": "TFsiPyeHnxwt",
        "outputId": "7c3a5306-7799-4293-cd3b-b3613446ebc4"
      },
      "execution_count": null,
      "outputs": [
        {
          "output_type": "stream",
          "name": "stdout",
          "text": [
            "Reading File\n",
            "Read File\n",
            "Copied Everything to GPU memory\n",
            "Start traversing the tree\n",
            "Kernel Executed 12 times\n",
            "Result stored in result.txt\n"
          ]
        }
      ]
    },
    {
      "cell_type": "code",
      "source": [
        "!nvprof ./bfs ../../data/bfs/graph1MW_6.txt"
      ],
      "metadata": {
        "colab": {
          "base_uri": "https://localhost:8080/"
        },
        "id": "b0t1_p8Kqman",
        "outputId": "57e88c43-eb7d-47cd-fa20-42d784250172"
      },
      "execution_count": null,
      "outputs": [
        {
          "output_type": "stream",
          "name": "stdout",
          "text": [
            "Reading File\n",
            "Read File\n",
            "==708== NVPROF is profiling process 708, command: ./bfs ../../data/bfs/graph1MW_6.txt\n",
            "Copied Everything to GPU memory\n",
            "Start traversing the tree\n",
            "Kernel Executed 12 times\n",
            "Result stored in result.txt\n",
            "==708== Profiling application: ./bfs ../../data/bfs/graph1MW_6.txt\n",
            "==708== Profiling result:\n",
            "            Type  Time(%)      Time     Calls       Avg       Min       Max  Name\n",
            " GPU activities:   64.84%  7.4219ms        18  412.33us  1.4080us  4.9825ms  [CUDA memcpy HtoD]\n",
            "                   26.88%  3.0771ms        12  256.42us  36.127us  1.1349ms  Kernel(Node*, int*, bool*, bool*, bool*, int*, int)\n",
            "                    4.27%  488.69us        13  37.591us  1.6960us  467.38us  [CUDA memcpy DtoH]\n",
            "                    4.01%  458.77us        12  38.231us  31.487us  46.463us  Kernel2(bool*, bool*, bool*, bool*, int)\n",
            "      API calls:   95.84%  368.22ms         7  52.602ms  7.2600us  367.56ms  cudaMalloc\n",
            "                    3.36%  12.910ms        31  416.44us  3.6860us  5.1571ms  cudaMemcpy\n",
            "                    0.51%  1.9422ms         6  323.71us  4.9040us  1.0800ms  cudaFree\n",
            "                    0.11%  405.68us         1  405.68us  405.68us  405.68us  cuDeviceGetPCIBusId\n",
            "                    0.09%  350.51us         1  350.51us  350.51us  350.51us  cuDeviceTotalMem\n",
            "                    0.05%  185.54us       101  1.8370us     131ns  78.613us  cuDeviceGetAttribute\n",
            "                    0.04%  159.31us        24  6.6370us  4.0330us  36.897us  cudaLaunchKernel\n",
            "                    0.01%  29.020us         1  29.020us  29.020us  29.020us  cuDeviceGetName\n",
            "                    0.00%  1.3930us         2     696ns     264ns  1.1290us  cuDeviceGet\n",
            "                    0.00%  1.2540us         3     418ns     202ns     750ns  cuDeviceGetCount\n",
            "                    0.00%     286ns         1     286ns     286ns     286ns  cuDeviceGetUuid\n"
          ]
        }
      ]
    },
    {
      "cell_type": "markdown",
      "source": [
        "### **BFS - Unified Memory Version**"
      ],
      "metadata": {
        "id": "MhoA8eJAUDQ5"
      }
    },
    {
      "cell_type": "code",
      "source": [
        "%cd '/content/drive/MyDrive/rodinia_3.1/cuda/bfs_um'\n",
        "!ls"
      ],
      "metadata": {
        "colab": {
          "base_uri": "https://localhost:8080/"
        },
        "id": "Rs_wY0J9RKH8",
        "outputId": "56da7861-b3b8-4538-c09d-7cabe1ad68b1"
      },
      "execution_count": null,
      "outputs": [
        {
          "output_type": "stream",
          "name": "stdout",
          "text": [
            "/content/drive/MyDrive/rodinia_3.1/cuda/bfs_um\n",
            "bfs\tkernel2.cu  Makefile\t     README\t run\n",
            "bfs.cu\tkernel.cu   Makefile_nvidia  result.txt\n"
          ]
        }
      ]
    },
    {
      "cell_type": "code",
      "source": [
        "!make clean\n",
        "!make "
      ],
      "metadata": {
        "colab": {
          "base_uri": "https://localhost:8080/"
        },
        "id": "okRJy5h4QsSh",
        "outputId": "b215dd9a-14d5-4a52-d39f-530551fbee79"
      },
      "execution_count": null,
      "outputs": [
        {
          "output_type": "stream",
          "name": "stdout",
          "text": [
            "rm -f bfs bfs.linkinfo result.txt\n",
            "/usr/local/cuda/bin/nvcc bfs.cu -o bfs -I/usr/local/cuda/include -L/usr/local/cuda/lib64 \n"
          ]
        }
      ]
    },
    {
      "cell_type": "code",
      "source": [
        "!./bfs ../../data/bfs/graph1MW_6.txt"
      ],
      "metadata": {
        "colab": {
          "base_uri": "https://localhost:8080/"
        },
        "id": "vG0nNyprpCU1",
        "outputId": "8b93d6b7-0fbf-4ac2-8132-1f1612bc50f4"
      },
      "execution_count": null,
      "outputs": [
        {
          "output_type": "stream",
          "name": "stdout",
          "text": [
            "Reading File\n",
            "Allocate all unified memory\n",
            "Read File\n",
            "Start traversing the tree\n",
            "Kernel Executed 12 times\n",
            "Result stored in result.txt\n"
          ]
        }
      ]
    },
    {
      "cell_type": "code",
      "source": [
        "!nvprof ./bfs ../../data/bfs/graph1MW_6.txt"
      ],
      "metadata": {
        "colab": {
          "base_uri": "https://localhost:8080/"
        },
        "id": "9NWueVpYuh95",
        "outputId": "a1529077-2889-4853-ad46-75a8e101171b"
      },
      "execution_count": null,
      "outputs": [
        {
          "output_type": "stream",
          "name": "stdout",
          "text": [
            "Reading File\n",
            "==627== NVPROF is profiling process 627, command: ./bfs ../../data/bfs/graph1MW_6.txt\n",
            "Allocate all unified memory\n",
            "Read File\n",
            "Start traversing the tree\n",
            "Kernel Executed 12 times\n",
            "Result stored in result.txt\n",
            "==627== Profiling application: ./bfs ../../data/bfs/graph1MW_6.txt\n",
            "==627== Warning: 24 records have invalid timestamps due to insufficient device buffer space. You can configure the buffer space using the option --device-buffer-size.\n",
            "==627== Warning: 24 records have invalid timestamps due to insufficient semaphore pool size. You can configure the pool size using the option --profiling-semaphore-pool-size.\n",
            "==627== Profiling result:\n",
            "            Type  Time(%)      Time     Calls       Avg       Min       Max  Name\n",
            " GPU activities:   93.76%  15.781ms        12  1.3151ms  38.815us  5.2760ms  Kernel(Node*, int*, bool*, bool*, bool*, int*, int)\n",
            "                    6.24%  1.0510ms        12  87.581us  32.735us  416.66us  Kernel2(bool*, bool*, bool*, bool*, int)\n",
            "      API calls:   93.85%  340.23ms         7  48.604ms  5.9640us  340.06ms  cudaMallocManaged\n",
            "                    5.05%  18.307ms        24  762.77us  12.136us  5.4558ms  cudaMemcpy\n",
            "                    0.85%  3.0984ms         7  442.62us  23.792us  1.3366ms  cudaFree\n",
            "                    0.10%  371.41us         1  371.41us  371.41us  371.41us  cuDeviceTotalMem\n",
            "                    0.09%  309.22us        24  12.884us  6.9680us  42.584us  cudaLaunchKernel\n",
            "                    0.05%  165.69us       101  1.6400us     140ns  71.673us  cuDeviceGetAttribute\n",
            "                    0.01%  28.299us         1  28.299us  28.299us  28.299us  cuDeviceGetName\n",
            "                    0.00%  5.7860us         1  5.7860us  5.7860us  5.7860us  cuDeviceGetPCIBusId\n",
            "                    0.00%  1.3450us         3     448ns     174ns     859ns  cuDeviceGetCount\n",
            "                    0.00%  1.0680us         2     534ns     240ns     828ns  cuDeviceGet\n",
            "                    0.00%     285ns         1     285ns     285ns     285ns  cuDeviceGetUuid\n",
            "\n",
            "==627== Unified Memory profiling result:\n",
            "Device \"Tesla T4 (0)\"\n",
            "   Count  Avg Size  Min Size  Max Size  Total Size  Total Time  Name\n",
            "    1122  34.331KB  4.0000KB  760.00KB  37.61719MB  6.348661ms  Host To Device\n",
            "      44  95.363KB  4.0000KB  0.9961MB  4.097656MB  404.1520us  Device To Host\n",
            "      80         -         -         -           -  16.23520ms  Gpu page fault groups\n",
            "       1         -         -         -           -  314.2150us  Page throttles\n",
            "      18  4.0000KB  4.0000KB  4.0000KB  72.00000KB           -  Memory thrashes\n",
            "Total CPU Page faults: 146\n",
            "Total CPU thrashes: 18\n"
          ]
        }
      ]
    },
    {
      "cell_type": "markdown",
      "source": [
        "### **BFS - Unified Memory Advised Version**"
      ],
      "metadata": {
        "id": "p4F104Uiu1BL"
      }
    },
    {
      "cell_type": "code",
      "source": [
        "%cd '/content/drive/MyDrive/rodinia_3.1/cuda/bfs_adv'"
      ],
      "metadata": {
        "colab": {
          "base_uri": "https://localhost:8080/"
        },
        "id": "Gw9MxmgaZXZI",
        "outputId": "eb5e1367-db7b-49fa-963e-944fda5626b3"
      },
      "execution_count": null,
      "outputs": [
        {
          "output_type": "stream",
          "name": "stdout",
          "text": [
            "[Errno 2] No such file or directory: '/content/drive/MyDrive/rodinia_3.1/cuda/bfs_adv'\n",
            "/content/drive/MyDrive/rodinia_3.1/cuda/bfs_um_pre\n"
          ]
        }
      ]
    },
    {
      "cell_type": "code",
      "source": [
        "!ls"
      ],
      "metadata": {
        "colab": {
          "base_uri": "https://localhost:8080/"
        },
        "id": "zfCMIo8hY6ZC",
        "outputId": "40408158-10a4-4bca-e1d3-c86e6dbf0315"
      },
      "execution_count": null,
      "outputs": [
        {
          "output_type": "stream",
          "name": "stdout",
          "text": [
            "bfs\t\t      helper_image.h\t       kernel.cu\n",
            "bfs.cu\t\t      helper_math.h\t       Makefile\n",
            "exception.h\t      helper_multiprocess.cpp  Makefile_nvidia\n",
            "helper_cuda_drvapi.h  helper_multiprocess.h    README\n",
            "helper_cuda.h\t      helper_nvJPEG.hxx        result.txt\n",
            "helper_cusolver.h     helper_string.h\t       run\n",
            "helper_functions.h    helper_timer.h\n",
            "helper_gl.h\t      kernel2.cu\n"
          ]
        }
      ]
    },
    {
      "cell_type": "code",
      "source": [
        "!make clean\n",
        "!make"
      ],
      "metadata": {
        "colab": {
          "base_uri": "https://localhost:8080/"
        },
        "id": "0CGfP6rjMmox",
        "outputId": "5728f682-61e7-459c-8251-7c143f9c4be6"
      },
      "execution_count": null,
      "outputs": [
        {
          "output_type": "stream",
          "name": "stdout",
          "text": [
            "rm -f bfs bfs.linkinfo result.txt\n",
            "/usr/local/cuda/bin/nvcc bfs.cu -o bfs -I/usr/local/cuda/include -L/usr/local/cuda/lib64 \n"
          ]
        }
      ]
    },
    {
      "cell_type": "code",
      "source": [
        "!./bfs ../../data/bfs/graph1MW_6.txt"
      ],
      "metadata": {
        "colab": {
          "base_uri": "https://localhost:8080/"
        },
        "id": "RKMhLr88i9kO",
        "outputId": "a293cbab-6ab2-4fad-abb7-5b3a0be3d490"
      },
      "execution_count": null,
      "outputs": [
        {
          "output_type": "stream",
          "name": "stdout",
          "text": [
            "Reading File\n",
            "GPU Device 0: \"Turing\" with compute capability 7.5\n",
            "\n",
            "Allocate Unified Memory\n",
            "Read File\n",
            "Start traversing the tree\n",
            "Kernel Executed 12 times\n",
            "Result stored in result.txt\n"
          ]
        }
      ]
    },
    {
      "cell_type": "code",
      "source": [
        "!nvprof ./bfs ../../data/bfs/graph1MW_6.txt"
      ],
      "metadata": {
        "colab": {
          "base_uri": "https://localhost:8080/"
        },
        "id": "ZDiyPMsk3ldt",
        "outputId": "85e53ee7-55e3-4031-b383-96b1cb7883dd"
      },
      "execution_count": null,
      "outputs": [
        {
          "output_type": "stream",
          "name": "stdout",
          "text": [
            "Reading File\n",
            "==9784== NVPROF is profiling process 9784, command: ./bfs ../../data/bfs/graph1MW_6.txt\n",
            "GPU Device 0: \"Turing\" with compute capability 7.5\n",
            "\n",
            "Allocate Unified Memory\n",
            "Read File\n",
            "Start traversing the tree\n",
            "Kernel Executed 12 times\n",
            "Result stored in result.txt\n",
            "==9784== Profiling application: ./bfs ../../data/bfs/graph1MW_6.txt\n",
            "==9784== Warning: 24 records have invalid timestamps due to insufficient device buffer space. You can configure the buffer space using the option --device-buffer-size.\n",
            "==9784== Warning: 24 records have invalid timestamps due to insufficient semaphore pool size. You can configure the pool size using the option --profiling-semaphore-pool-size.\n",
            "==9784== Profiling result:\n",
            "            Type  Time(%)      Time     Calls       Avg       Min       Max  Name\n",
            " GPU activities:   92.01%  13.603ms        12  1.1336ms  38.143us  3.5734ms  Kernel(Node*, int*, bool*, bool*, bool*, int*, int)\n",
            "                    7.99%  1.1814ms        12  98.448us  37.856us  566.93us  Kernel2(bool*, bool*, bool*, bool*, int)\n",
            "      API calls:   92.11%  311.69ms         7  44.528ms  5.7450us  311.51ms  cudaMallocManaged\n",
            "                    4.97%  16.829ms        24  701.22us  10.609us  3.7624ms  cudaMemcpy\n",
            "                    2.15%  7.2868ms         6  1.2145ms  12.290us  3.1272ms  cudaFree\n",
            "                    0.47%  1.5971ms        12  133.10us  1.8170us  1.1478ms  cudaMemAdvise\n",
            "                    0.11%  375.18us         1  375.18us  375.18us  375.18us  cuDeviceTotalMem\n",
            "                    0.10%  335.08us        24  13.961us  6.8070us  54.203us  cudaLaunchKernel\n",
            "                    0.04%  150.27us       101  1.4870us     140ns  65.190us  cuDeviceGetAttribute\n",
            "                    0.02%  56.893us         7  8.1270us     328ns  54.118us  cudaDeviceGetAttribute\n",
            "                    0.01%  37.318us         1  37.318us  37.318us  37.318us  cuDeviceGetName\n",
            "                    0.00%  5.9160us         1  5.9160us  5.9160us  5.9160us  cuDeviceGetPCIBusId\n",
            "                    0.00%  2.9570us         1  2.9570us  2.9570us  2.9570us  cudaSetDevice\n",
            "                    0.00%  1.4790us         3     493ns     181ns     851ns  cuDeviceGetCount\n",
            "                    0.00%  1.3900us         2     695ns     410ns     980ns  cuDeviceGet\n",
            "                    0.00%     919ns         1     919ns     919ns     919ns  cudaGetDeviceCount\n",
            "                    0.00%     295ns         1     295ns     295ns     295ns  cuDeviceGetUuid\n",
            "\n",
            "==9784== Unified Memory profiling result:\n",
            "Device \"Tesla T4 (0)\"\n",
            "   Count  Avg Size  Min Size  Max Size  Total Size  Total Time  Name\n",
            "    1089  35.214KB  4.0000KB  464.00KB  37.44922MB  6.112943ms  Host To Device\n",
            "      51  80.705KB  4.0000KB  832.00KB  4.019531MB  406.4530us  Device To Host\n",
            "      91         -         -         -           -  14.17467ms  Gpu page fault groups\n",
            "       1         -         -         -           -  379.6350us  Page throttles\n",
            "      11  4.0000KB  4.0000KB  4.0000KB  44.00000KB           -  Memory thrashes\n",
            "Total CPU Page faults: 158\n",
            "Total CPU thrashes: 11\n",
            "Total CPU throttles: 1\n"
          ]
        }
      ]
    },
    {
      "cell_type": "markdown",
      "source": [
        "\n",
        "### **BFS - Unified Memory Prefetched Version**"
      ],
      "metadata": {
        "id": "F_5ILCGVo_3k"
      }
    },
    {
      "cell_type": "code",
      "source": [
        "%cd '/content/drive/MyDrive/rodinia_3.1/cuda/bfs_um_pre'\n",
        "!ls"
      ],
      "metadata": {
        "id": "RWsEuPy-iPpq",
        "colab": {
          "base_uri": "https://localhost:8080/"
        },
        "outputId": "94e4e6d8-da54-4ae4-fb29-1cfa151a51f6"
      },
      "execution_count": null,
      "outputs": [
        {
          "output_type": "stream",
          "name": "stdout",
          "text": [
            "/content/drive/MyDrive/rodinia_3.1/cuda/bfs_um_pre\n",
            "bfs\t\t      helper_image.h\t       kernel.cu\n",
            "bfs.cu\t\t      helper_math.h\t       Makefile\n",
            "exception.h\t      helper_multiprocess.cpp  Makefile_nvidia\n",
            "helper_cuda_drvapi.h  helper_multiprocess.h    README\n",
            "helper_cuda.h\t      helper_nvJPEG.hxx        result.txt\n",
            "helper_cusolver.h     helper_string.h\t       run\n",
            "helper_functions.h    helper_timer.h\n",
            "helper_gl.h\t      kernel2.cu\n"
          ]
        }
      ]
    },
    {
      "cell_type": "code",
      "source": [
        "!make clean\n",
        "!make"
      ],
      "metadata": {
        "colab": {
          "base_uri": "https://localhost:8080/"
        },
        "id": "AuEj-GSSQ36y",
        "outputId": "1e7aa5ed-33ef-4ce4-c42c-eb0440e9a912"
      },
      "execution_count": null,
      "outputs": [
        {
          "output_type": "stream",
          "name": "stdout",
          "text": [
            "rm -f bfs bfs.linkinfo result.txt\n",
            "/usr/local/cuda/bin/nvcc bfs.cu -o bfs -I/usr/local/cuda/include -L/usr/local/cuda/lib64 \n"
          ]
        }
      ]
    },
    {
      "cell_type": "code",
      "source": [
        "!./bfs ../../data/bfs/graph1MW_6.txt"
      ],
      "metadata": {
        "colab": {
          "base_uri": "https://localhost:8080/"
        },
        "id": "s-OVL0PiRUIJ",
        "outputId": "af6f88c4-31b3-4232-cde3-f05fd801d70c"
      },
      "execution_count": null,
      "outputs": [
        {
          "output_type": "stream",
          "name": "stdout",
          "text": [
            "GPU Device 0: \"Turing\" with compute capability 7.5\n",
            "\n",
            "Reading File\n",
            "Allocate all unified memory\n",
            "Read File\n",
            "Start traversing the tree\n",
            "Kernel Executed 12 times\n",
            "Result stored in result.txt\n"
          ]
        }
      ]
    },
    {
      "cell_type": "code",
      "source": [
        "!nvprof ./bfs ../../data/bfs/graph1MW_6.txt"
      ],
      "metadata": {
        "colab": {
          "base_uri": "https://localhost:8080/"
        },
        "id": "llsFd5lxRakW",
        "outputId": "b5f780d7-5190-47b6-e7f4-cd508e01b7a5"
      },
      "execution_count": null,
      "outputs": [
        {
          "output_type": "stream",
          "name": "stdout",
          "text": [
            "==5397== NVPROF is profiling process 5397, command: ./bfs ../../data/bfs/graph1MW_6.txt\n",
            "GPU Device 0: \"Turing\" with compute capability 7.5\n",
            "\n",
            "Reading File\n",
            "Allocate all unified memory\n",
            "Read File\n",
            "Start traversing the tree\n",
            "Kernel Executed 12 times\n",
            "Result stored in result.txt\n",
            "==5397== Profiling application: ./bfs ../../data/bfs/graph1MW_6.txt\n",
            "==5397== Warning: 24 records have invalid timestamps due to insufficient device buffer space. You can configure the buffer space using the option --device-buffer-size.\n",
            "==5397== Warning: 24 records have invalid timestamps due to insufficient semaphore pool size. You can configure the pool size using the option --profiling-semaphore-pool-size.\n",
            "==5397== Profiling result:\n",
            "            Type  Time(%)      Time     Calls       Avg       Min       Max  Name\n",
            " GPU activities:   90.08%  6.3296ms        12  527.47us  37.696us  1.4291ms  Kernel(Node*, int*, bool*, bool*, bool*, int*, int)\n",
            "                    9.92%  696.98us        12  58.081us  32.095us  116.19us  Kernel2(bool*, bool*, bool*, bool*, int)\n",
            "      API calls:   92.35%  235.22ms         7  33.603ms  6.0650us  234.98ms  cudaMallocManaged\n",
            "                    3.51%  8.9298ms        24  372.08us  12.607us  1.5492ms  cudaMemcpy\n",
            "                    2.30%  5.8601ms         7  837.16us  36.925us  2.5915ms  cudaFree\n",
            "                    1.45%  3.6875ms         5  737.51us  102.65us  2.2584ms  cudaMemPrefetchAsync\n",
            "                    0.16%  405.42us         1  405.42us  405.42us  405.42us  cuDeviceTotalMem\n",
            "                    0.12%  316.88us        24  13.203us  7.2220us  46.252us  cudaLaunchKernel\n",
            "                    0.06%  152.90us       101  1.5130us     128ns  64.560us  cuDeviceGetAttribute\n",
            "                    0.02%  59.005us         7  8.4290us     301ns  56.653us  cudaDeviceGetAttribute\n",
            "                    0.01%  27.566us         1  27.566us  27.566us  27.566us  cuDeviceGetName\n",
            "                    0.01%  22.496us         1  22.496us  22.496us  22.496us  cudaSetDevice\n",
            "                    0.00%  5.6340us         1  5.6340us  5.6340us  5.6340us  cuDeviceGetPCIBusId\n",
            "                    0.00%  1.5670us         3     522ns     207ns  1.0220us  cuDeviceGetCount\n",
            "                    0.00%  1.1450us         2     572ns     267ns     878ns  cuDeviceGet\n",
            "                    0.00%     927ns         1     927ns     927ns     927ns  cudaGetDeviceCount\n",
            "                    0.00%     294ns         1     294ns     294ns     294ns  cuDeviceGetUuid\n",
            "\n",
            "==5397== Unified Memory profiling result:\n",
            "Device \"Tesla T4 (0)\"\n",
            "   Count  Avg Size  Min Size  Max Size  Total Size  Total Time  Name\n",
            "     256  149.95KB  4.0000KB  2.0000MB  37.48828MB  3.929835ms  Host To Device\n",
            "      20  206.80KB  4.0000KB  2.0000MB  4.039063MB  358.0430us  Device To Host\n",
            "      46         -         -         -           -  5.401690ms  Gpu page fault groups\n",
            "       1         -         -         -           -  359.5220us  Page throttles\n",
            "      19  4.0000KB  4.0000KB  4.0000KB  76.00000KB           -  Memory thrashes\n",
            "Total CPU Page faults: 135\n",
            "Total CPU thrashes: 19\n",
            "Total CPU throttles: 1\n"
          ]
        }
      ]
    },
    {
      "cell_type": "code",
      "source": [
        "!nvprof ./bfs ../../data/bfs/graph1MW_6.txt"
      ],
      "metadata": {
        "id": "ngLXmsIebPVY"
      },
      "execution_count": null,
      "outputs": []
    },
    {
      "cell_type": "code",
      "source": [
        "import matplotlib.pyplot as plt\n",
        "import numpy as np\n",
        "\n",
        "opt = ['Original', 'Unified Memory', 'Advised', 'Prefeteched']\n",
        "dtoh = np.array([7717.8, 0, 0, 0])\n",
        "htod = np.array([480.70, 0, 0, 0])\n",
        "k1 = np.array([3085.5, 15054, 13603 ,3986.1])\n",
        "k2 = np.array([464.99, 902.51, 1181.4 ,1395.9])\n",
        "\n",
        "dtoh_p = np.array([4.09, 0, 0 ,0])\n",
        "htod_p = np.array([65.69, 0, 0 ,0])\n",
        "k1_p = np.array([26.26, 94.34, 92.01 ,74.06])\n",
        "k2_p = np.array([3.96, 5.66, 7.99, 25.94])\n",
        "\n",
        "width = 0.4\n",
        "fig, ax = plt.subplots(1, 2)\n",
        "\n",
        "ax[0].bar(opt, htod, width, label='cudaMemcpyHtoD')\n",
        "ax[0].bar(opt, dtoh, width, bottom=htod, label='cudaMemcpyDtoH')\n",
        "ax[0].bar(opt, k1, width, bottom=htod+dtoh, label='Kernel')\n",
        "ax[0].bar(opt, k2, width, bottom=htod+dtoh+k1, label='Kernel2')\n",
        "\n",
        "\n",
        "ax[0].set_xlabel('Optimization')\n",
        "ax[0].set_ylabel('Execution time (us)')\n",
        "ax[0].set_title('Breakdown of time')\n",
        "ax[0].legend()\n",
        "\n",
        "ax[1].bar(opt, htod_p, width, label='cudaMemcpyHtoD')\n",
        "ax[1].bar(opt, dtoh_p, width, bottom=htod_p, label='cudaMemcpyDtoH')\n",
        "ax[1].bar(opt, k1_p, width, bottom=htod_p+dtoh_p, label='Kernel')\n",
        "ax[1].bar(opt, k2_p, width, bottom=htod_p+dtoh_p+k1_p, label='Kernel2')\n",
        "\n",
        "ax[1].set_xlabel('Optimization')\n",
        "ax[1].set_ylabel('Fraction of execution time (%)')\n",
        "ax[1].set_title('Breakdown of time in percentage')\n",
        "ax[1].legend()\n",
        "\n",
        "fig.set_size_inches(18.5, 10.5, forward=True)\n",
        "plt.show()"
      ],
      "metadata": {
        "colab": {
          "base_uri": "https://localhost:8080/",
          "height": 436
        },
        "id": "sY4XZCyHKKUp",
        "outputId": "c07a91de-f573-4f70-c464-ff66087a12ef"
      },
      "execution_count": null,
      "outputs": [
        {
          "output_type": "display_data",
          "data": {
            "text/plain": [
              "<Figure size 1332x756 with 2 Axes>"
            ],
            "image/png": "[encoded data removed]"
          },
          "metadata": {
            "needs_background": "light"
          }
        }
      ]
    },
    {
      "cell_type": "code",
      "source": [
        "import numpy as np\n",
        "import matplotlib.pyplot as plt\n",
        "\n",
        "x_labels = ['HtoD', 'DtoH', 'GPU kernel page falut']\n",
        "um = [6183.26, 409.685, 16748.05]\n",
        "advise = [6112.943, 406.4530, 14174.67]\n",
        "prefetch = [3367.53, 352.4390, 2226.379]\n",
        "# xstring=\n",
        "index = np.arange(3)\n",
        "bar_width = 0.25\n",
        "\n",
        "plt.bar(index, um, width=bar_width, label=\"UM\")\n",
        "plt.bar(index + bar_width, advise, width=bar_width, label=\"ADVISE\")\n",
        "plt.bar(index + 2 * bar_width, prefetch, width=bar_width, label=\"PREFETCH\")\n",
        "# labels = ['UM','ADVISE','PREFETCH']\n",
        "# x_labels = ['DtoH', 'HtoD', 'GPU kernel page falut']\n",
        "plt.legend()\n",
        "plt.ylabel(\"execution time(us)\")\n",
        "plt.title(\"UM profiler\")\n",
        "plt.xticks(index + bar_width / 2, x_labels)\n",
        "plt.show()\n"
      ],
      "metadata": {
        "id": "ly8j5x1Lsu7W",
        "colab": {
          "base_uri": "https://localhost:8080/",
          "height": 281
        },
        "outputId": "b61a497d-6caa-4f2b-be20-0f6ffbf39e34"
      },
      "execution_count": null,
      "outputs": [
        {
          "output_type": "display_data",
          "data": {
            "text/plain": [
              "<Figure size 432x288 with 1 Axes>"
            ],
            "image/png": "[encoded data removed]"
          },
          "metadata": {
            "needs_background": "light"
          }
        }
      ]
    }
  ]
}